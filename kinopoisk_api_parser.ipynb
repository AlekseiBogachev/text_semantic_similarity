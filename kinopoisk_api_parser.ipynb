{
 "cells": [
  {
   "cell_type": "markdown",
   "metadata": {},
   "source": [
    "<a id=\"0\"></a> <br>\n",
    " # Table of Contents  \n",
    "1. [Импорт](#1) \n",
    "2. [TOKEN](#2)\n",
    "3. [Функции для парсинга](#3)\n",
    "4. [Парсинг фильмов/сериалов/мультов/..  и базовой информации о них](#4)\n",
    "5. [Парсинг рецензий](#5)\n",
    "6. [Парсинг расширенной информации о фильмах](#6)"
   ]
  },
  {
   "cell_type": "markdown",
   "metadata": {},
   "source": [
    "<a id=\"1\"></a> \n",
    "## Импорт"
   ]
  },
  {
   "cell_type": "code",
   "execution_count": 1,
   "metadata": {},
   "outputs": [],
   "source": [
    "# pip install kinopoisk-dev -q"
   ]
  },
  {
   "cell_type": "code",
   "execution_count": 23,
   "metadata": {},
   "outputs": [],
   "source": [
    "from kinopoisk_dev import KinopoiskDev, ReviewField, ReviewParams, MovieParams, MovieField\n",
    "from kinopoisk_dev.model import Movie, ReviewDocsResponseDto\n",
    "import pandas as pd\n",
    "import numpy as np\n",
    "import time\n",
    "import os\n",
    "\n",
    "pd.set_option('display.max_columns', 99)"
   ]
  },
  {
   "cell_type": "markdown",
   "metadata": {},
   "source": [
    "<a id=\"2\"></a> \n",
    "## TOKEN заменить на свой. Сгенерировать можно здесь: https://t.me/kinopoiskdev_bot"
   ]
  },
  {
   "cell_type": "code",
   "execution_count": 2,
   "metadata": {},
   "outputs": [],
   "source": [
    "#TOKEN = "
   ]
  },
  {
   "cell_type": "code",
   "execution_count": 7,
   "metadata": {},
   "outputs": [],
   "source": []
  },
  {
   "cell_type": "markdown",
   "metadata": {},
   "source": [
    "<a id=\"3\"></a> \n",
    "## Функции для парсинга"
   ]
  },
  {
   "cell_type": "markdown",
   "metadata": {},
   "source": [
    "Функция **films_base_info_parsing** перебирает в цикле заданные пользователем страницы с фильмами/сериалами/мультами или др контентом и заносит в список **content_data** по каждому фильму/сериалу/.. список с соответствующими ему данными: item.id, item.name, item.rating.kp, item.rating.imdb, item.description. Затем этот список списков преобразуется в датафрейм **content_df**, который после минимальной обработки подается на выход функции. **Тип контента** фильм/сериал/мульт/.. **можно менять** с помощью переменной type_number - 1 (movie) | 2 (tv-series) | 3 (cartoon) | 4 (anime) | 5 (animated-series) | 6 (tv-show)."
   ]
  },
  {
   "cell_type": "code",
   "execution_count": 3,
   "metadata": {},
   "outputs": [],
   "source": [
    "def films_base_info_parsing(start_page, finish_page, type_number):\n",
    "    kpmm = KinopoiskDev(token=TOKEN)\n",
    "    content_data = []\n",
    "\n",
    "    for i in range(start_page, finish_page):\n",
    "        try:\n",
    "            items = kpmm.find_many_movie(params=[\n",
    "                             MovieParams(keys=MovieField.TYPE_NUMBER, value=type_number),\n",
    "                             MovieParams(keys=MovieField.PAGE, value=i),\n",
    "                             MovieParams(keys=MovieField.LIMIT, value='250')])    \n",
    "            for item in items.docs:  # перебираем фильмы полученной страницы (250 ед фильмов/сериалов/мультов/..)\n",
    "                content_data.append([item.id, item.name, item.rating.kp, item.rating.imdb, item.description])\n",
    "            \n",
    "        except:\n",
    "            print(f'Похоже закончились запросы к апи на {i}-той странице')\n",
    "            break\n",
    "            \n",
    "    content_df = pd.DataFrame(data=content_data, columns=['kp_id', 'name', 'kp_rating', 'imdb_rating', 'description'])  \n",
    "    content_df.dropna(subset=['name'], inplace=True) # контент с такими id отсутствует/удален на кинопоиске, поэтому удаляем\n",
    "    content_df = content_df.sort_values(by='kp_rating', ascending=False).reset_index(drop=True)     \n",
    "            \n",
    "    return content_df         "
   ]
  },
  {
   "cell_type": "markdown",
   "metadata": {},
   "source": [
    "Функция **reviews_parsing** перебирает в цикле **id** фильмов/сериалов/мультов/.. из заданных пользователем строк датафрейма **content_df** и заносит в список **revs_data** по каждой рецензии список с соответствующими ей данными: item.movieId, item.id, item.userRating, item.type, item.title, item.review. Затем этот список списков преобразуется в датафрейм **revs_df**, который  подается на выход функции."
   ]
  },
  {
   "cell_type": "code",
   "execution_count": 4,
   "metadata": {},
   "outputs": [],
   "source": [
    "def reviews_parsing(content_df, start_row, finish_row, reviews_limit):\n",
    "    kpr = KinopoiskDev(token=TOKEN)\n",
    "    revs_data = []\n",
    "    last_id = content_df.kp_id[start_row]\n",
    "    \n",
    "    for i in content_df.kp_id[start_row:finish_row]:\n",
    "        try:\n",
    "            items = kpr.review(params=[\n",
    "                             ReviewParams(keys=ReviewField.MOVIE_ID, value=i),    # айди фильмов/сериалов/.. перебираются циклом\n",
    "                             ReviewParams(keys=ReviewField.PAGE, value=1),               # страница, достаточно 1 \n",
    "                             ReviewParams(keys=ReviewField.LIMIT, value=reviews_limit)]) # сколько рецензий берем со страницы\n",
    "            for item in items.docs:  # перебираем все рецензии фильма/сериала/мульта/.. с текущим id\n",
    "                revs_data.append([item.movieId, item.id, item.userRating, item.type, item.title, item.review])\n",
    "            \n",
    "        except:\n",
    "            last_row = content_df.query('kp_id == @last_id').index\n",
    "            print(f'Похоже закончились запросы к апи на {last_row[0]}-той строке. Айди последнего обработанного фильма - {last_id}')\n",
    "            break\n",
    "            \n",
    "        last_id = i\n",
    "            \n",
    "    revs_df = pd.DataFrame(data=revs_data, columns=['movie_id', 'review_id', 'user_rating', 'type', 'title', 'review'])  \n",
    "            \n",
    "    return revs_df    "
   ]
  },
  {
   "cell_type": "markdown",
   "metadata": {},
   "source": [
    "Функция **ext_info_parsing** перебирает в цикле id фильмов/сериалов/мультов/.. из заданных пользователем строк датафрейма **content_df** и заносит в список **ext_info_data** по каждому фильму список с расширенной информацией о фильме: 'kp_id', 'imdb_id', 'type', name', 'en_name', 'year', 'length', 'rating_mpaa', 'rating_kp', 'rating_imdb', 'rating_filmcritics', 'rating_rus_filmcritics', 'budget', 'fees_world', 'slogan', 'description', 'countries', 'actors', 'actors_eng', 'similar_movies', 'genres', 'production_companies', 'sequels_and_prequels'. Затем этот список списков преобразуется в датафрейм **ext_info_df**, который подается на выход функции."
   ]
  },
  {
   "cell_type": "code",
   "execution_count": 51,
   "metadata": {},
   "outputs": [],
   "source": [
    "def ext_info_parsing(content_df, start_row, finish_row):\n",
    "    kp_i = KinopoiskDev(token=TOKEN)\n",
    "    ext_info_data = []\n",
    "    last_id = content_df.kp_id[start_row]\n",
    "    \n",
    "    # Проходим циклом по заданному срезу столбца content_df с id, запрашивая расширенную информацию о фильме по текущему id \n",
    "    for i in content_df.kp_id[start_row:finish_row]:\n",
    "        try:\n",
    "            data = kp_i.find_one_movie(i)\n",
    "        \n",
    "        # В случае ошибки блока try пользователю выводится уведомление об окончании кол-ва запросов к апи \n",
    "        except:\n",
    "            last_row = content_df.query('kp_id == @last_id').index\n",
    "            print(f'Похоже закончились запросы к апи на {last_row[0]}-той строке. Айди последнего обработанного фильма - {last_id}')\n",
    "            break\n",
    "            \n",
    "        last_id = i\n",
    "\n",
    "        \n",
    "        # Формирование строковой переменной, которая содержит запись всех стран в одну строку, с разделением запятыми \n",
    "        countries = ''\n",
    "        for i, country in enumerate(data.countries): \n",
    "            if i < len (data.countries) - 1:\n",
    "                countries += str(country.name) + ', ' \n",
    "            else: \n",
    "                countries += str(country.name)\n",
    "     \n",
    "\n",
    "    \n",
    "        # Формирование строковых переменных, которые содержат записи актеров/режиссеров/.. в одну строку, с разделением запятыми \n",
    "        actors = ''\n",
    "        directors = ''\n",
    "        producers = ''\n",
    "        operators = ''\n",
    "        for i, person in enumerate(data.persons):\n",
    "            if person.profession == 'актеры':\n",
    "                    actors += str(person.name) + ', ' \n",
    "            elif person.profession == 'режиссеры':\n",
    "                    directors += str(person.name) + ', ' \n",
    "            elif person.profession == 'продюсеры':\n",
    "                    producers += str(person.name) + ', ' \n",
    "            elif person.profession == 'операторы':\n",
    "                    operators += str(person.name) + ', ' \n",
    "        actors = actors[:-2]\n",
    "        directors = directors[:-2]\n",
    "        producers = producers[:-2]\n",
    "        operators = operators[:-2]\n",
    "\n",
    "                \n",
    "\n",
    "        # Формирование строковой переменной, которая содержит запись всех похожих фильмов и их id в одну строку, с разделением запятыми\n",
    "        similar_movies = ''\n",
    "        for i, movie in enumerate(data.similarMovies):\n",
    "            if i < len (data.similarMovies) - 1:\n",
    "                similar_movies += str(movie.id) + ' ' + str(movie.name) + ', ' \n",
    "            else: \n",
    "                similar_movies += str(movie.id) + ' ' + str(movie.name)\n",
    "  \n",
    "\n",
    "\n",
    "        # Формирование строковой переменной, которая содержит запись всех жанров в одну строку, с разделением запятыми\n",
    "        genres = ''\n",
    "        for i, genre in enumerate(data.genres): \n",
    "            if i < len (data.genres) - 1:\n",
    "                genres += str(genre.name) + ', ' \n",
    "            else: \n",
    "                genres += str(genre.name)\n",
    "\n",
    "\n",
    "                \n",
    "        # Формирование строковой переменной, которая содержит запись всех продакшн компаний в одну строку, с разделением запятыми\n",
    "        production_companies = ''\n",
    "        for i, company in enumerate(data.productionCompanies): \n",
    "            if i < len (data.productionCompanies) - 1:\n",
    "                production_companies += str(company.name) + ', ' \n",
    "            else: \n",
    "                production_companies += str(company.name)\n",
    "\n",
    "                \n",
    "                \n",
    "        # Формирование строковой переменной, которая содержит запись всех сиквелов и приквелов в одну строку, с разделением запятыми\n",
    "        sequels_and_prequels = ''\n",
    "        for i, sequel in enumerate(data.sequelsAndPrequels): \n",
    "            if i < len (data.sequelsAndPrequels) - 1:\n",
    "                sequels_and_prequels += str(sequel.name) + ', ' \n",
    "            else: \n",
    "                sequels_and_prequels += str(sequel.name)\n",
    "\n",
    "                \n",
    "        # Во избежание редко встречаемой ошибки со стороны апи AttributeError: 'NoneType' object has no attribute 'value' \n",
    "        # юзаю try except\n",
    "        try:\n",
    "            fees_world = data.fees.world.value\n",
    "\n",
    "        except:\n",
    "            fees_world = np.nan\n",
    "            \n",
    "    \n",
    "        # На каждой итерации в список ext_info_data добавляется элемент(тоже список) с расширенными данными о фильме. \n",
    "        # Часть этих данных берется напрямую из атрибутов(data.id, data.name и пр), другая - переменные которые формировались выше(countries, actors  и пр)\n",
    "        ext_info_data.append([data.id, data.externalId.imdb, data.type, data.name, data.alternativeName, data.year, \n",
    "                              data.movieLength, data.rating.kp, data.rating.imdb, data.ratingMpaa, data.rating.filmCritics, \n",
    "                              data.rating.russianFilmCritics, data.budget.value, fees_world, data.slogan, \n",
    "                              data.description, countries, actors, directors, producers, operators, similar_movies, genres, \n",
    "                              production_companies, sequels_and_prequels])\n",
    "            \n",
    "    ext_info_df = pd.DataFrame(data=ext_info_data, columns=['kp_id', 'imdb_id', 'type', 'name', 'en_name', 'year', 'length',\n",
    "                                                            'rating_kp', 'rating_imdb', 'rating_mpaa', 'rating_filmcritics', \n",
    "                                                            'rating_rus_filmcritics', 'budget', 'fees_world', 'slogan', \n",
    "                                                            'description', 'countries', 'actors', 'directors', 'producers', \n",
    "                                                            'operators', 'similar_movies', 'genres',\n",
    "                                                            'production_companies', 'sequels_and_prequels'])  \n",
    "            \n",
    "    return ext_info_df   "
   ]
  },
  {
   "cell_type": "markdown",
   "metadata": {},
   "source": [
    "<a id=\"4\"></a> \n",
    "## Парсинг фильмов/сериалов/мультов/..  и базовой информации о них"
   ]
  },
  {
   "cell_type": "code",
   "execution_count": 21,
   "metadata": {},
   "outputs": [],
   "source": [
    "films = films_base_info_parsing(1, 5, 1)  # start_page >= 1"
   ]
  },
  {
   "cell_type": "code",
   "execution_count": 22,
   "metadata": {},
   "outputs": [
    {
     "data": {
      "text/html": [
       "<div>\n",
       "<style scoped>\n",
       "    .dataframe tbody tr th:only-of-type {\n",
       "        vertical-align: middle;\n",
       "    }\n",
       "\n",
       "    .dataframe tbody tr th {\n",
       "        vertical-align: top;\n",
       "    }\n",
       "\n",
       "    .dataframe thead th {\n",
       "        text-align: right;\n",
       "    }\n",
       "</style>\n",
       "<table border=\"1\" class=\"dataframe\">\n",
       "  <thead>\n",
       "    <tr style=\"text-align: right;\">\n",
       "      <th></th>\n",
       "      <th>kp_id</th>\n",
       "      <th>name</th>\n",
       "      <th>kp_rating</th>\n",
       "      <th>imdb_rating</th>\n",
       "      <th>description</th>\n",
       "    </tr>\n",
       "  </thead>\n",
       "  <tbody>\n",
       "    <tr>\n",
       "      <th>0</th>\n",
       "      <td>326</td>\n",
       "      <td>Побег из Шоушенка</td>\n",
       "      <td>9.108</td>\n",
       "      <td>9.3</td>\n",
       "      <td>Бухгалтер Энди Дюфрейн обвинён в убийстве собс...</td>\n",
       "    </tr>\n",
       "    <tr>\n",
       "      <th>1</th>\n",
       "      <td>435</td>\n",
       "      <td>Зеленая миля</td>\n",
       "      <td>9.074</td>\n",
       "      <td>8.6</td>\n",
       "      <td>Пол Эджкомб — начальник блока смертников в тюр...</td>\n",
       "    </tr>\n",
       "    <tr>\n",
       "      <th>2</th>\n",
       "      <td>448</td>\n",
       "      <td>Форрест Гамп</td>\n",
       "      <td>8.919</td>\n",
       "      <td>8.8</td>\n",
       "      <td>Сидя на автобусной остановке, Форрест Гамп — н...</td>\n",
       "    </tr>\n",
       "    <tr>\n",
       "      <th>3</th>\n",
       "      <td>329</td>\n",
       "      <td>Список Шиндлера</td>\n",
       "      <td>8.843</td>\n",
       "      <td>9.0</td>\n",
       "      <td>Фильм рассказывает реальную историю загадочног...</td>\n",
       "    </tr>\n",
       "    <tr>\n",
       "      <th>4</th>\n",
       "      <td>535341</td>\n",
       "      <td>1+1</td>\n",
       "      <td>8.813</td>\n",
       "      <td>8.5</td>\n",
       "      <td>Пострадав в результате несчастного случая, бог...</td>\n",
       "    </tr>\n",
       "    <tr>\n",
       "      <th>5</th>\n",
       "      <td>42664</td>\n",
       "      <td>Иван Васильевич меняет профессию</td>\n",
       "      <td>8.785</td>\n",
       "      <td>8.2</td>\n",
       "      <td>Инженер-изобретатель Тимофеев сконструировал м...</td>\n",
       "    </tr>\n",
       "    <tr>\n",
       "      <th>6</th>\n",
       "      <td>25108</td>\n",
       "      <td>В бой идут одни «старики»</td>\n",
       "      <td>8.715</td>\n",
       "      <td>8.3</td>\n",
       "      <td>Эта эскадрилья стала «поющей» - так капитан Ти...</td>\n",
       "    </tr>\n",
       "    <tr>\n",
       "      <th>7</th>\n",
       "      <td>325</td>\n",
       "      <td>Крестный отец</td>\n",
       "      <td>8.709</td>\n",
       "      <td>9.2</td>\n",
       "      <td>Криминальная сага, повествующая о нью-йоркской...</td>\n",
       "    </tr>\n",
       "    <tr>\n",
       "      <th>8</th>\n",
       "      <td>42782</td>\n",
       "      <td>Операция «Ы» и другие приключения Шурика</td>\n",
       "      <td>8.705</td>\n",
       "      <td>8.5</td>\n",
       "      <td>Студент Шурик попадает в самые невероятные сит...</td>\n",
       "    </tr>\n",
       "    <tr>\n",
       "      <th>9</th>\n",
       "      <td>389</td>\n",
       "      <td>Леон</td>\n",
       "      <td>8.668</td>\n",
       "      <td>8.5</td>\n",
       "      <td>Профессиональный убийца Леон неожиданно для се...</td>\n",
       "    </tr>\n",
       "  </tbody>\n",
       "</table>\n",
       "</div>"
      ],
      "text/plain": [
       "    kp_id                                      name  kp_rating  imdb_rating  \\\n",
       "0     326                         Побег из Шоушенка      9.108          9.3   \n",
       "1     435                              Зеленая миля      9.074          8.6   \n",
       "2     448                              Форрест Гамп      8.919          8.8   \n",
       "3     329                           Список Шиндлера      8.843          9.0   \n",
       "4  535341                                       1+1      8.813          8.5   \n",
       "5   42664          Иван Васильевич меняет профессию      8.785          8.2   \n",
       "6   25108                 В бой идут одни «старики»      8.715          8.3   \n",
       "7     325                             Крестный отец      8.709          9.2   \n",
       "8   42782  Операция «Ы» и другие приключения Шурика      8.705          8.5   \n",
       "9     389                                      Леон      8.668          8.5   \n",
       "\n",
       "                                         description  \n",
       "0  Бухгалтер Энди Дюфрейн обвинён в убийстве собс...  \n",
       "1  Пол Эджкомб — начальник блока смертников в тюр...  \n",
       "2  Сидя на автобусной остановке, Форрест Гамп — н...  \n",
       "3  Фильм рассказывает реальную историю загадочног...  \n",
       "4  Пострадав в результате несчастного случая, бог...  \n",
       "5  Инженер-изобретатель Тимофеев сконструировал м...  \n",
       "6  Эта эскадрилья стала «поющей» - так капитан Ти...  \n",
       "7  Криминальная сага, повествующая о нью-йоркской...  \n",
       "8  Студент Шурик попадает в самые невероятные сит...  \n",
       "9  Профессиональный убийца Леон неожиданно для се...  "
      ]
     },
     "execution_count": 22,
     "metadata": {},
     "output_type": "execute_result"
    }
   ],
   "source": [
    "films.head(10)"
   ]
  },
  {
   "cell_type": "code",
   "execution_count": 23,
   "metadata": {},
   "outputs": [
    {
     "name": "stdout",
     "output_type": "stream",
     "text": [
      "<class 'pandas.core.frame.DataFrame'>\n",
      "RangeIndex: 1000 entries, 0 to 999\n",
      "Data columns (total 5 columns):\n",
      " #   Column       Non-Null Count  Dtype  \n",
      "---  ------       --------------  -----  \n",
      " 0   kp_id        1000 non-null   int64  \n",
      " 1   name         1000 non-null   object \n",
      " 2   kp_rating    1000 non-null   float64\n",
      " 3   imdb_rating  1000 non-null   float64\n",
      " 4   description  1000 non-null   object \n",
      "dtypes: float64(2), int64(1), object(2)\n",
      "memory usage: 39.2+ KB\n"
     ]
    }
   ],
   "source": [
    "films.info()"
   ]
  },
  {
   "cell_type": "code",
   "execution_count": 29,
   "metadata": {},
   "outputs": [],
   "source": [
    "films.to_csv('first_1_000_films.csv', index=False)"
   ]
  },
  {
   "cell_type": "markdown",
   "metadata": {},
   "source": [
    "<a id=\"5\"></a> \n",
    "## Парсинг рецензий"
   ]
  },
  {
   "cell_type": "code",
   "execution_count": 6,
   "metadata": {},
   "outputs": [
    {
     "data": {
      "text/html": [
       "<div>\n",
       "<style scoped>\n",
       "    .dataframe tbody tr th:only-of-type {\n",
       "        vertical-align: middle;\n",
       "    }\n",
       "\n",
       "    .dataframe tbody tr th {\n",
       "        vertical-align: top;\n",
       "    }\n",
       "\n",
       "    .dataframe thead th {\n",
       "        text-align: right;\n",
       "    }\n",
       "</style>\n",
       "<table border=\"1\" class=\"dataframe\">\n",
       "  <thead>\n",
       "    <tr style=\"text-align: right;\">\n",
       "      <th></th>\n",
       "      <th>kp_id</th>\n",
       "      <th>name</th>\n",
       "      <th>kp_rating</th>\n",
       "      <th>imdb_rating</th>\n",
       "      <th>description</th>\n",
       "    </tr>\n",
       "  </thead>\n",
       "  <tbody>\n",
       "    <tr>\n",
       "      <th>0</th>\n",
       "      <td>1252447</td>\n",
       "      <td>Лорды раздевалки</td>\n",
       "      <td>9.399</td>\n",
       "      <td>9.3</td>\n",
       "      <td>NaN</td>\n",
       "    </tr>\n",
       "    <tr>\n",
       "      <th>1</th>\n",
       "      <td>1003587</td>\n",
       "      <td>Гамильтон</td>\n",
       "      <td>9.245</td>\n",
       "      <td>8.3</td>\n",
       "      <td>Рассказ о жизни американского государственного...</td>\n",
       "    </tr>\n",
       "    <tr>\n",
       "      <th>2</th>\n",
       "      <td>1339977</td>\n",
       "      <td>Уровень тревоги: Полночь</td>\n",
       "      <td>9.232</td>\n",
       "      <td>9.6</td>\n",
       "      <td>NaN</td>\n",
       "    </tr>\n",
       "    <tr>\n",
       "      <th>3</th>\n",
       "      <td>2500772</td>\n",
       "      <td>Жизнь человека. Последнее интервью</td>\n",
       "      <td>9.169</td>\n",
       "      <td>0.0</td>\n",
       "      <td>В марте 2018 года один из лучших хирургов-онко...</td>\n",
       "    </tr>\n",
       "    <tr>\n",
       "      <th>4</th>\n",
       "      <td>1043713</td>\n",
       "      <td>Он вам не Димон</td>\n",
       "      <td>9.127</td>\n",
       "      <td>8.8</td>\n",
       "      <td>Рассказ о предполагаемом недвижимом имуществе ...</td>\n",
       "    </tr>\n",
       "    <tr>\n",
       "      <th>...</th>\n",
       "      <td>...</td>\n",
       "      <td>...</td>\n",
       "      <td>...</td>\n",
       "      <td>...</td>\n",
       "      <td>...</td>\n",
       "    </tr>\n",
       "    <tr>\n",
       "      <th>41585</th>\n",
       "      <td>5362602</td>\n",
       "      <td>У людей так бывает</td>\n",
       "      <td>0.000</td>\n",
       "      <td>0.0</td>\n",
       "      <td>Несколько историй о любви, в каждой из которых...</td>\n",
       "    </tr>\n",
       "    <tr>\n",
       "      <th>41586</th>\n",
       "      <td>1205377</td>\n",
       "      <td>Один и тот же</td>\n",
       "      <td>0.000</td>\n",
       "      <td>4.1</td>\n",
       "      <td>Лолу Роуз приглашают в секретное учреждение, к...</td>\n",
       "    </tr>\n",
       "    <tr>\n",
       "      <th>41587</th>\n",
       "      <td>1022061</td>\n",
       "      <td>Странный дом</td>\n",
       "      <td>0.000</td>\n",
       "      <td>2.4</td>\n",
       "      <td>У пятерых друзей на пустынной дороге ломается ...</td>\n",
       "    </tr>\n",
       "    <tr>\n",
       "      <th>41588</th>\n",
       "      <td>1364232</td>\n",
       "      <td>Красный снег</td>\n",
       "      <td>0.000</td>\n",
       "      <td>5.1</td>\n",
       "      <td>Авторша вампирских романов приезжает на Рождес...</td>\n",
       "    </tr>\n",
       "    <tr>\n",
       "      <th>41589</th>\n",
       "      <td>1064827</td>\n",
       "      <td>Поцелуй под омелой</td>\n",
       "      <td>0.000</td>\n",
       "      <td>6.2</td>\n",
       "      <td>Уилла Дэвис, хозяйка зоомагазина из Сан-Франци...</td>\n",
       "    </tr>\n",
       "  </tbody>\n",
       "</table>\n",
       "<p>41590 rows × 5 columns</p>\n",
       "</div>"
      ],
      "text/plain": [
       "         kp_id                                name  kp_rating  imdb_rating  \\\n",
       "0      1252447                    Лорды раздевалки      9.399          9.3   \n",
       "1      1003587                           Гамильтон      9.245          8.3   \n",
       "2      1339977            Уровень тревоги: Полночь      9.232          9.6   \n",
       "3      2500772  Жизнь человека. Последнее интервью      9.169          0.0   \n",
       "4      1043713                     Он вам не Димон      9.127          8.8   \n",
       "...        ...                                 ...        ...          ...   \n",
       "41585  5362602                  У людей так бывает      0.000          0.0   \n",
       "41586  1205377                       Один и тот же      0.000          4.1   \n",
       "41587  1022061                        Странный дом      0.000          2.4   \n",
       "41588  1364232                        Красный снег      0.000          5.1   \n",
       "41589  1064827                  Поцелуй под омелой      0.000          6.2   \n",
       "\n",
       "                                             description  \n",
       "0                                                    NaN  \n",
       "1      Рассказ о жизни американского государственного...  \n",
       "2                                                    NaN  \n",
       "3      В марте 2018 года один из лучших хирургов-онко...  \n",
       "4      Рассказ о предполагаемом недвижимом имуществе ...  \n",
       "...                                                  ...  \n",
       "41585  Несколько историй о любви, в каждой из которых...  \n",
       "41586  Лолу Роуз приглашают в секретное учреждение, к...  \n",
       "41587  У пятерых друзей на пустынной дороге ломается ...  \n",
       "41588  Авторша вампирских романов приезжает на Рождес...  \n",
       "41589  Уилла Дэвис, хозяйка зоомагазина из Сан-Франци...  \n",
       "\n",
       "[41590 rows x 5 columns]"
      ]
     },
     "execution_count": 6,
     "metadata": {},
     "output_type": "execute_result"
    }
   ],
   "source": [
    "films_df = pd.read_csv(r'C:\\ML\\csv_files\\first_170_films_pages_total_41_590.csv')\n",
    "films_df"
   ]
  },
  {
   "cell_type": "code",
   "execution_count": 32,
   "metadata": {},
   "outputs": [],
   "source": [
    "reviews = reviews_parsing(films_df, 0, 5, 250)"
   ]
  },
  {
   "cell_type": "code",
   "execution_count": 33,
   "metadata": {},
   "outputs": [
    {
     "data": {
      "text/html": [
       "<div>\n",
       "<style scoped>\n",
       "    .dataframe tbody tr th:only-of-type {\n",
       "        vertical-align: middle;\n",
       "    }\n",
       "\n",
       "    .dataframe tbody tr th {\n",
       "        vertical-align: top;\n",
       "    }\n",
       "\n",
       "    .dataframe thead th {\n",
       "        text-align: right;\n",
       "    }\n",
       "</style>\n",
       "<table border=\"1\" class=\"dataframe\">\n",
       "  <thead>\n",
       "    <tr style=\"text-align: right;\">\n",
       "      <th></th>\n",
       "      <th>movie_id</th>\n",
       "      <th>review_id</th>\n",
       "      <th>user_rating</th>\n",
       "      <th>type</th>\n",
       "      <th>title</th>\n",
       "      <th>review</th>\n",
       "    </tr>\n",
       "  </thead>\n",
       "  <tbody>\n",
       "    <tr>\n",
       "      <th>0</th>\n",
       "      <td>326</td>\n",
       "      <td>3289333</td>\n",
       "      <td>None</td>\n",
       "      <td>Нейтральный</td>\n",
       "      <td>Свобода, она такая.</td>\n",
       "      <td>Неразлучная парочка 'рабство-свобода' привлека...</td>\n",
       "    </tr>\n",
       "    <tr>\n",
       "      <th>1</th>\n",
       "      <td>326</td>\n",
       "      <td>3274753</td>\n",
       "      <td>None</td>\n",
       "      <td>Позитивный</td>\n",
       "      <td>Околозаконное рабство.</td>\n",
       "      <td>Да-да, 'Зелёная миля', 'Побег из Шоушенка' и '...</td>\n",
       "    </tr>\n",
       "    <tr>\n",
       "      <th>2</th>\n",
       "      <td>326</td>\n",
       "      <td>3266958</td>\n",
       "      <td>None</td>\n",
       "      <td>Позитивный</td>\n",
       "      <td>До сих пор хорошее кино</td>\n",
       "      <td>Долгое время этот фильм возглавлял топы лучших...</td>\n",
       "    </tr>\n",
       "    <tr>\n",
       "      <th>3</th>\n",
       "      <td>326</td>\n",
       "      <td>3253285</td>\n",
       "      <td>None</td>\n",
       "      <td>Позитивный</td>\n",
       "      <td>Вольная птица порхает, где хочет!</td>\n",
       "      <td>&lt;b&gt;Культовая кинокартина Фрэнка Дарабонта расс...</td>\n",
       "    </tr>\n",
       "    <tr>\n",
       "      <th>4</th>\n",
       "      <td>326</td>\n",
       "      <td>3201243</td>\n",
       "      <td>None</td>\n",
       "      <td>Позитивный</td>\n",
       "      <td>Некоторые мысли о фильме 'Побег из Шоушенка'</td>\n",
       "      <td>Говорят, что практика делает совершенным, но е...</td>\n",
       "    </tr>\n",
       "    <tr>\n",
       "      <th>...</th>\n",
       "      <td>...</td>\n",
       "      <td>...</td>\n",
       "      <td>...</td>\n",
       "      <td>...</td>\n",
       "      <td>...</td>\n",
       "      <td>...</td>\n",
       "    </tr>\n",
       "    <tr>\n",
       "      <th>1245</th>\n",
       "      <td>535341</td>\n",
       "      <td>1583900</td>\n",
       "      <td>None</td>\n",
       "      <td>Позитивный</td>\n",
       "      <td>None</td>\n",
       "      <td>Нужно всегда стараться находить положительные ...</td>\n",
       "    </tr>\n",
       "    <tr>\n",
       "      <th>1246</th>\n",
       "      <td>535341</td>\n",
       "      <td>1584073</td>\n",
       "      <td>None</td>\n",
       "      <td>Позитивный</td>\n",
       "      <td>Живое кино.</td>\n",
       "      <td>Этот фильм появился на свет как-то тихо, без в...</td>\n",
       "    </tr>\n",
       "    <tr>\n",
       "      <th>1247</th>\n",
       "      <td>535341</td>\n",
       "      <td>1584231</td>\n",
       "      <td>None</td>\n",
       "      <td>Позитивный</td>\n",
       "      <td>Эмоциональное кино для эмоциональных людей</td>\n",
       "      <td>Фильм оставил незабываемые впечатления после п...</td>\n",
       "    </tr>\n",
       "    <tr>\n",
       "      <th>1248</th>\n",
       "      <td>535341</td>\n",
       "      <td>1584658</td>\n",
       "      <td>None</td>\n",
       "      <td>Негативный</td>\n",
       "      <td>Фильм — диагноз</td>\n",
       "      <td>Очередной проходной фильм на актуальные социал...</td>\n",
       "    </tr>\n",
       "    <tr>\n",
       "      <th>1249</th>\n",
       "      <td>535341</td>\n",
       "      <td>1584689</td>\n",
       "      <td>None</td>\n",
       "      <td>Позитивный</td>\n",
       "      <td>Нетачблс</td>\n",
       "      <td>Собственно говоря, фильм не о том, о чем вы ду...</td>\n",
       "    </tr>\n",
       "  </tbody>\n",
       "</table>\n",
       "<p>1250 rows × 6 columns</p>\n",
       "</div>"
      ],
      "text/plain": [
       "      movie_id  review_id user_rating         type  \\\n",
       "0          326    3289333        None  Нейтральный   \n",
       "1          326    3274753        None   Позитивный   \n",
       "2          326    3266958        None   Позитивный   \n",
       "3          326    3253285        None   Позитивный   \n",
       "4          326    3201243        None   Позитивный   \n",
       "...        ...        ...         ...          ...   \n",
       "1245    535341    1583900        None   Позитивный   \n",
       "1246    535341    1584073        None   Позитивный   \n",
       "1247    535341    1584231        None   Позитивный   \n",
       "1248    535341    1584658        None   Негативный   \n",
       "1249    535341    1584689        None   Позитивный   \n",
       "\n",
       "                                             title  \\\n",
       "0                              Свобода, она такая.   \n",
       "1                           Околозаконное рабство.   \n",
       "2                          До сих пор хорошее кино   \n",
       "3                Вольная птица порхает, где хочет!   \n",
       "4     Некоторые мысли о фильме 'Побег из Шоушенка'   \n",
       "...                                            ...   \n",
       "1245                                          None   \n",
       "1246                                   Живое кино.   \n",
       "1247    Эмоциональное кино для эмоциональных людей   \n",
       "1248                               Фильм — диагноз   \n",
       "1249                                      Нетачблс   \n",
       "\n",
       "                                                 review  \n",
       "0     Неразлучная парочка 'рабство-свобода' привлека...  \n",
       "1     Да-да, 'Зелёная миля', 'Побег из Шоушенка' и '...  \n",
       "2     Долгое время этот фильм возглавлял топы лучших...  \n",
       "3     <b>Культовая кинокартина Фрэнка Дарабонта расс...  \n",
       "4     Говорят, что практика делает совершенным, но е...  \n",
       "...                                                 ...  \n",
       "1245  Нужно всегда стараться находить положительные ...  \n",
       "1246  Этот фильм появился на свет как-то тихо, без в...  \n",
       "1247  Фильм оставил незабываемые впечатления после п...  \n",
       "1248  Очередной проходной фильм на актуальные социал...  \n",
       "1249  Собственно говоря, фильм не о том, о чем вы ду...  \n",
       "\n",
       "[1250 rows x 6 columns]"
      ]
     },
     "execution_count": 33,
     "metadata": {},
     "output_type": "execute_result"
    }
   ],
   "source": [
    "reviews"
   ]
  },
  {
   "cell_type": "code",
   "execution_count": 34,
   "metadata": {},
   "outputs": [],
   "source": [
    "reviews.to_csv('first_1_250_reviews.csv', index=False)"
   ]
  },
  {
   "cell_type": "markdown",
   "metadata": {},
   "source": [
    "<a id=\"6\"></a> \n",
    "## Парсинг расширенной информации о фильмах"
   ]
  },
  {
   "cell_type": "code",
   "execution_count": 4,
   "metadata": {},
   "outputs": [
    {
     "data": {
      "text/html": [
       "<div>\n",
       "<style scoped>\n",
       "    .dataframe tbody tr th:only-of-type {\n",
       "        vertical-align: middle;\n",
       "    }\n",
       "\n",
       "    .dataframe tbody tr th {\n",
       "        vertical-align: top;\n",
       "    }\n",
       "\n",
       "    .dataframe thead th {\n",
       "        text-align: right;\n",
       "    }\n",
       "</style>\n",
       "<table border=\"1\" class=\"dataframe\">\n",
       "  <thead>\n",
       "    <tr style=\"text-align: right;\">\n",
       "      <th></th>\n",
       "      <th>kp_id</th>\n",
       "      <th>name</th>\n",
       "      <th>kp_rating</th>\n",
       "      <th>imdb_rating</th>\n",
       "      <th>description</th>\n",
       "    </tr>\n",
       "  </thead>\n",
       "  <tbody>\n",
       "    <tr>\n",
       "      <th>0</th>\n",
       "      <td>1252447</td>\n",
       "      <td>Лорды раздевалки</td>\n",
       "      <td>9.399</td>\n",
       "      <td>9.3</td>\n",
       "      <td>NaN</td>\n",
       "    </tr>\n",
       "    <tr>\n",
       "      <th>1</th>\n",
       "      <td>1003587</td>\n",
       "      <td>Гамильтон</td>\n",
       "      <td>9.245</td>\n",
       "      <td>8.3</td>\n",
       "      <td>Рассказ о жизни американского государственного...</td>\n",
       "    </tr>\n",
       "    <tr>\n",
       "      <th>2</th>\n",
       "      <td>1339977</td>\n",
       "      <td>Уровень тревоги: Полночь</td>\n",
       "      <td>9.232</td>\n",
       "      <td>9.6</td>\n",
       "      <td>NaN</td>\n",
       "    </tr>\n",
       "    <tr>\n",
       "      <th>3</th>\n",
       "      <td>2500772</td>\n",
       "      <td>Жизнь человека. Последнее интервью</td>\n",
       "      <td>9.169</td>\n",
       "      <td>0.0</td>\n",
       "      <td>В марте 2018 года один из лучших хирургов-онко...</td>\n",
       "    </tr>\n",
       "    <tr>\n",
       "      <th>4</th>\n",
       "      <td>1043713</td>\n",
       "      <td>Он вам не Димон</td>\n",
       "      <td>9.127</td>\n",
       "      <td>8.8</td>\n",
       "      <td>Рассказ о предполагаемом недвижимом имуществе ...</td>\n",
       "    </tr>\n",
       "    <tr>\n",
       "      <th>...</th>\n",
       "      <td>...</td>\n",
       "      <td>...</td>\n",
       "      <td>...</td>\n",
       "      <td>...</td>\n",
       "      <td>...</td>\n",
       "    </tr>\n",
       "    <tr>\n",
       "      <th>41585</th>\n",
       "      <td>5362602</td>\n",
       "      <td>У людей так бывает</td>\n",
       "      <td>0.000</td>\n",
       "      <td>0.0</td>\n",
       "      <td>Несколько историй о любви, в каждой из которых...</td>\n",
       "    </tr>\n",
       "    <tr>\n",
       "      <th>41586</th>\n",
       "      <td>1205377</td>\n",
       "      <td>Один и тот же</td>\n",
       "      <td>0.000</td>\n",
       "      <td>4.1</td>\n",
       "      <td>Лолу Роуз приглашают в секретное учреждение, к...</td>\n",
       "    </tr>\n",
       "    <tr>\n",
       "      <th>41587</th>\n",
       "      <td>1022061</td>\n",
       "      <td>Странный дом</td>\n",
       "      <td>0.000</td>\n",
       "      <td>2.4</td>\n",
       "      <td>У пятерых друзей на пустынной дороге ломается ...</td>\n",
       "    </tr>\n",
       "    <tr>\n",
       "      <th>41588</th>\n",
       "      <td>1364232</td>\n",
       "      <td>Красный снег</td>\n",
       "      <td>0.000</td>\n",
       "      <td>5.1</td>\n",
       "      <td>Авторша вампирских романов приезжает на Рождес...</td>\n",
       "    </tr>\n",
       "    <tr>\n",
       "      <th>41589</th>\n",
       "      <td>1064827</td>\n",
       "      <td>Поцелуй под омелой</td>\n",
       "      <td>0.000</td>\n",
       "      <td>6.2</td>\n",
       "      <td>Уилла Дэвис, хозяйка зоомагазина из Сан-Франци...</td>\n",
       "    </tr>\n",
       "  </tbody>\n",
       "</table>\n",
       "<p>41590 rows × 5 columns</p>\n",
       "</div>"
      ],
      "text/plain": [
       "         kp_id                                name  kp_rating  imdb_rating  \\\n",
       "0      1252447                    Лорды раздевалки      9.399          9.3   \n",
       "1      1003587                           Гамильтон      9.245          8.3   \n",
       "2      1339977            Уровень тревоги: Полночь      9.232          9.6   \n",
       "3      2500772  Жизнь человека. Последнее интервью      9.169          0.0   \n",
       "4      1043713                     Он вам не Димон      9.127          8.8   \n",
       "...        ...                                 ...        ...          ...   \n",
       "41585  5362602                  У людей так бывает      0.000          0.0   \n",
       "41586  1205377                       Один и тот же      0.000          4.1   \n",
       "41587  1022061                        Странный дом      0.000          2.4   \n",
       "41588  1364232                        Красный снег      0.000          5.1   \n",
       "41589  1064827                  Поцелуй под омелой      0.000          6.2   \n",
       "\n",
       "                                             description  \n",
       "0                                                    NaN  \n",
       "1      Рассказ о жизни американского государственного...  \n",
       "2                                                    NaN  \n",
       "3      В марте 2018 года один из лучших хирургов-онко...  \n",
       "4      Рассказ о предполагаемом недвижимом имуществе ...  \n",
       "...                                                  ...  \n",
       "41585  Несколько историй о любви, в каждой из которых...  \n",
       "41586  Лолу Роуз приглашают в секретное учреждение, к...  \n",
       "41587  У пятерых друзей на пустынной дороге ломается ...  \n",
       "41588  Авторша вампирских романов приезжает на Рождес...  \n",
       "41589  Уилла Дэвис, хозяйка зоомагазина из Сан-Франци...  \n",
       "\n",
       "[41590 rows x 5 columns]"
      ]
     },
     "execution_count": 4,
     "metadata": {},
     "output_type": "execute_result"
    }
   ],
   "source": [
    "films_df = pd.read_csv(r'C:\\ML\\csv_files\\first_170_films_pages_total_41_590.csv')\n",
    "films_df"
   ]
  },
  {
   "cell_type": "code",
   "execution_count": 49,
   "metadata": {},
   "outputs": [],
   "source": [
    "sample = films_df.sample(10).reset_index(drop=True)"
   ]
  },
  {
   "cell_type": "code",
   "execution_count": 52,
   "metadata": {},
   "outputs": [
    {
     "name": "stdout",
     "output_type": "stream",
     "text": [
      "Похоже закончились запросы к апи на 8-той строке. Айди последнего обработанного фильма - 676363\n"
     ]
    },
    {
     "data": {
      "text/html": [
       "<div>\n",
       "<style scoped>\n",
       "    .dataframe tbody tr th:only-of-type {\n",
       "        vertical-align: middle;\n",
       "    }\n",
       "\n",
       "    .dataframe tbody tr th {\n",
       "        vertical-align: top;\n",
       "    }\n",
       "\n",
       "    .dataframe thead th {\n",
       "        text-align: right;\n",
       "    }\n",
       "</style>\n",
       "<table border=\"1\" class=\"dataframe\">\n",
       "  <thead>\n",
       "    <tr style=\"text-align: right;\">\n",
       "      <th></th>\n",
       "      <th>kp_id</th>\n",
       "      <th>imdb_id</th>\n",
       "      <th>type</th>\n",
       "      <th>name</th>\n",
       "      <th>en_name</th>\n",
       "      <th>year</th>\n",
       "      <th>length</th>\n",
       "      <th>rating_kp</th>\n",
       "      <th>rating_imdb</th>\n",
       "      <th>rating_mpaa</th>\n",
       "      <th>rating_filmcritics</th>\n",
       "      <th>rating_rus_filmcritics</th>\n",
       "      <th>budget</th>\n",
       "      <th>fees_world</th>\n",
       "      <th>slogan</th>\n",
       "      <th>description</th>\n",
       "      <th>countries</th>\n",
       "      <th>actors</th>\n",
       "      <th>directors</th>\n",
       "      <th>producers</th>\n",
       "      <th>operators</th>\n",
       "      <th>similar_movies</th>\n",
       "      <th>genres</th>\n",
       "      <th>production_companies</th>\n",
       "      <th>sequels_and_prequels</th>\n",
       "    </tr>\n",
       "  </thead>\n",
       "  <tbody>\n",
       "    <tr>\n",
       "      <th>0</th>\n",
       "      <td>1334039</td>\n",
       "      <td>None</td>\n",
       "      <td>movie</td>\n",
       "      <td>Сельский детектив. Яблоня раздора</td>\n",
       "      <td>None</td>\n",
       "      <td>2019</td>\n",
       "      <td>NaN</td>\n",
       "      <td>6.599</td>\n",
       "      <td>0.0</td>\n",
       "      <td>None</td>\n",
       "      <td>0.0</td>\n",
       "      <td>0.0</td>\n",
       "      <td>NaN</td>\n",
       "      <td>NaN</td>\n",
       "      <td>None</td>\n",
       "      <td>Олеся Федосеева – городская девушка со скучной...</td>\n",
       "      <td>Россия</td>\n",
       "      <td>Олеся Фаттахова, Алексей Демидов, Данила Якуше...</td>\n",
       "      <td>Сахат Дурсунов</td>\n",
       "      <td>Антон Прокопович, Татьяна Пронина, Максим Лившин</td>\n",
       "      <td>Сергей Красавцев</td>\n",
       "      <td></td>\n",
       "      <td>детектив, мелодрама</td>\n",
       "      <td></td>\n",
       "      <td>Сельский детектив 2. Месть Чернобога, Сельский...</td>\n",
       "    </tr>\n",
       "    <tr>\n",
       "      <th>1</th>\n",
       "      <td>81094</td>\n",
       "      <td>tt0233325</td>\n",
       "      <td>movie</td>\n",
       "      <td>Безумный день, или Женитьба Фигаро</td>\n",
       "      <td>None</td>\n",
       "      <td>1974</td>\n",
       "      <td>170.0</td>\n",
       "      <td>8.124</td>\n",
       "      <td>8.1</td>\n",
       "      <td>None</td>\n",
       "      <td>0.0</td>\n",
       "      <td>0.0</td>\n",
       "      <td>NaN</td>\n",
       "      <td>NaN</td>\n",
       "      <td>None</td>\n",
       "      <td>Слуга графа Альмавива весельчак и балагур Фига...</td>\n",
       "      <td>СССР</td>\n",
       "      <td>Андрей Миронов, Александр Ширвиндт, Вера Васил...</td>\n",
       "      <td>Владимир Храмов, Валентин Плучек</td>\n",
       "      <td>В. Вершинский</td>\n",
       "      <td>Геннадий Кринитский</td>\n",
       "      <td></td>\n",
       "      <td>комедия</td>\n",
       "      <td></td>\n",
       "      <td></td>\n",
       "    </tr>\n",
       "    <tr>\n",
       "      <th>2</th>\n",
       "      <td>229058</td>\n",
       "      <td>None</td>\n",
       "      <td>movie</td>\n",
       "      <td>Коломбо: Лебединая песня</td>\n",
       "      <td>Columbo: Swan Song</td>\n",
       "      <td>1974</td>\n",
       "      <td>94.0</td>\n",
       "      <td>7.753</td>\n",
       "      <td>8.0</td>\n",
       "      <td>None</td>\n",
       "      <td>0.0</td>\n",
       "      <td>0.0</td>\n",
       "      <td>NaN</td>\n",
       "      <td>NaN</td>\n",
       "      <td>None</td>\n",
       "      <td>Самолет популярного кантри-певца Томми Брауна ...</td>\n",
       "      <td>США</td>\n",
       "      <td>Питер Фальк, Джонни Кэш, Айда Лупино, Джон Ден...</td>\n",
       "      <td>Николас Коласанто</td>\n",
       "      <td>Эдвард К. Доддс, Дин Харгров, Роланд Кибби</td>\n",
       "      <td>Уильям Кронягер</td>\n",
       "      <td></td>\n",
       "      <td>драма, криминал, детектив, музыка</td>\n",
       "      <td></td>\n",
       "      <td>Коломбо: Предписание — убийство, Коломбо: Выку...</td>\n",
       "    </tr>\n",
       "    <tr>\n",
       "      <th>3</th>\n",
       "      <td>579505</td>\n",
       "      <td>tt1470173</td>\n",
       "      <td>movie</td>\n",
       "      <td>Три хиджаба</td>\n",
       "      <td>Three Veils</td>\n",
       "      <td>2011</td>\n",
       "      <td>117.0</td>\n",
       "      <td>6.503</td>\n",
       "      <td>6.3</td>\n",
       "      <td>None</td>\n",
       "      <td>0.0</td>\n",
       "      <td>0.0</td>\n",
       "      <td>NaN</td>\n",
       "      <td>NaN</td>\n",
       "      <td>A drama about three young Middle Eastern women...</td>\n",
       "      <td>Действие происходит в США. В центре сюжета – и...</td>\n",
       "      <td>США</td>\n",
       "      <td>Шитал Шетх, Анджела Зара, Мерседес Масон, Мадл...</td>\n",
       "      <td>Ролла Селбак</td>\n",
       "      <td>Ахмад Зара, Джереми Эллиотт, Фами Фарук Фараха...</td>\n",
       "      <td>Джон Фрост</td>\n",
       "      <td></td>\n",
       "      <td>драма</td>\n",
       "      <td>Zahra Pictures</td>\n",
       "      <td></td>\n",
       "    </tr>\n",
       "    <tr>\n",
       "      <th>4</th>\n",
       "      <td>104926</td>\n",
       "      <td>tt0452623</td>\n",
       "      <td>movie</td>\n",
       "      <td>Прощай, детка, прощай</td>\n",
       "      <td>Gone Baby Gone</td>\n",
       "      <td>2007</td>\n",
       "      <td>114.0</td>\n",
       "      <td>7.334</td>\n",
       "      <td>7.6</td>\n",
       "      <td>r</td>\n",
       "      <td>7.8</td>\n",
       "      <td>0.0</td>\n",
       "      <td>19000000.0</td>\n",
       "      <td>34612443.0</td>\n",
       "      <td>Всем нужна правда... пока они ее не находят</td>\n",
       "      <td>В пригороде Бостона без вести пропадает четыре...</td>\n",
       "      <td>США</td>\n",
       "      <td>Кейси Аффлек, Мишель Монахэн, Морган Фриман, Э...</td>\n",
       "      <td>Бен Аффлек</td>\n",
       "      <td>Шон Бэйли, Алан Лэдд мл., Чай Картер, Дэвид Кр...</td>\n",
       "      <td>Джон Толл</td>\n",
       "      <td>3730 Таинственная река, 455194 Пленницы, 27988...</td>\n",
       "      <td>триллер, драма, криминал, детектив</td>\n",
       "      <td>Miramax, The Ladd Company</td>\n",
       "      <td></td>\n",
       "    </tr>\n",
       "    <tr>\n",
       "      <th>5</th>\n",
       "      <td>56944</td>\n",
       "      <td>tt0045098</td>\n",
       "      <td>movie</td>\n",
       "      <td>Рим в 11 часов</td>\n",
       "      <td>Roma ore 11</td>\n",
       "      <td>1952</td>\n",
       "      <td>107.0</td>\n",
       "      <td>7.986</td>\n",
       "      <td>7.8</td>\n",
       "      <td>None</td>\n",
       "      <td>0.0</td>\n",
       "      <td>0.0</td>\n",
       "      <td>NaN</td>\n",
       "      <td>NaN</td>\n",
       "      <td>Starring Italy's most electrifying girls</td>\n",
       "      <td>В основу сюжета положен реальный факт: некий р...</td>\n",
       "      <td>Италия, Франция</td>\n",
       "      <td>Лючия Бозе, Карла Дель Поджо, Мария Грация Фра...</td>\n",
       "      <td>Джузеппе Де Сантис</td>\n",
       "      <td>Пол Грэц, Гоффредо Ломбардо</td>\n",
       "      <td>Отелло Мартелли</td>\n",
       "      <td>432 Похитители велосипедов</td>\n",
       "      <td>драма</td>\n",
       "      <td>Transcontinental Films, Titanus</td>\n",
       "      <td></td>\n",
       "    </tr>\n",
       "    <tr>\n",
       "      <th>6</th>\n",
       "      <td>36334</td>\n",
       "      <td>tt0054324</td>\n",
       "      <td>movie</td>\n",
       "      <td>Неоконченная песнь</td>\n",
       "      <td>Song Without End</td>\n",
       "      <td>1960</td>\n",
       "      <td>141.0</td>\n",
       "      <td>6.461</td>\n",
       "      <td>6.0</td>\n",
       "      <td>None</td>\n",
       "      <td>7.0</td>\n",
       "      <td>0.0</td>\n",
       "      <td>NaN</td>\n",
       "      <td>NaN</td>\n",
       "      <td>His Scandalous Affairs Shocked the World!</td>\n",
       "      <td>Музыка Ференца Листа - яркая, запоминающаяся. ...</td>\n",
       "      <td>США</td>\n",
       "      <td>Дирк Богард, Капюсин, Женевьев Паж, Патриша Мо...</td>\n",
       "      <td>Чарльз Видор, Джордж Кьюкор</td>\n",
       "      <td>Уильям Гетц</td>\n",
       "      <td>Джеймс Вонг Хау, Чарльз Лэнг</td>\n",
       "      <td>30768 Большой вальс, 957 Интермеццо</td>\n",
       "      <td>драма, биография, музыка</td>\n",
       "      <td>William Goetz Productions</td>\n",
       "      <td></td>\n",
       "    </tr>\n",
       "    <tr>\n",
       "      <th>7</th>\n",
       "      <td>2906</td>\n",
       "      <td>tt0116225</td>\n",
       "      <td>movie</td>\n",
       "      <td>Побег из Лос-Анджелеса</td>\n",
       "      <td>Escape from L.A.</td>\n",
       "      <td>1996</td>\n",
       "      <td>101.0</td>\n",
       "      <td>6.371</td>\n",
       "      <td>5.7</td>\n",
       "      <td>r</td>\n",
       "      <td>5.6</td>\n",
       "      <td>0.0</td>\n",
       "      <td>50000000.0</td>\n",
       "      <td>25477365.0</td>\n",
       "      <td>Змей вернулся</td>\n",
       "      <td>США, 2013 год. В результате природных катаклиз...</td>\n",
       "      <td>США</td>\n",
       "      <td>Курт Рассел, А.Дж. Ленджер, Стив Бушеми, Жорж ...</td>\n",
       "      <td>Джон Карпентер</td>\n",
       "      <td>Дебра Хилл, Курт Рассел</td>\n",
       "      <td>Гэри Б. Кибби</td>\n",
       "      <td>496888 Напролом, 220594 Судный день, 2277 Побе...</td>\n",
       "      <td>фантастика, боевик, триллер, приключения</td>\n",
       "      <td>Paramount, Rysher Entertainment</td>\n",
       "      <td>Побег из Нью-Йорка</td>\n",
       "    </tr>\n",
       "    <tr>\n",
       "      <th>8</th>\n",
       "      <td>676363</td>\n",
       "      <td>None</td>\n",
       "      <td>movie</td>\n",
       "      <td>Василиса</td>\n",
       "      <td>None</td>\n",
       "      <td>2013</td>\n",
       "      <td>100.0</td>\n",
       "      <td>5.706</td>\n",
       "      <td>4.7</td>\n",
       "      <td>None</td>\n",
       "      <td>0.0</td>\n",
       "      <td>25.0</td>\n",
       "      <td>7000000.0</td>\n",
       "      <td>NaN</td>\n",
       "      <td>Моя любовь. Моя война. Моё отечество</td>\n",
       "      <td>Он дворянин, а она — крепостная крестьянка… Им...</td>\n",
       "      <td>Россия</td>\n",
       "      <td>Светлана Ходченкова, Дмитрий Соломыкин, Жером ...</td>\n",
       "      <td>Антон Сиверс</td>\n",
       "      <td>Андрей Смирнов, Юрий Сапронов, Михаил Вавилов</td>\n",
       "      <td>Илья Авербах</td>\n",
       "      <td></td>\n",
       "      <td>история, мелодрама</td>\n",
       "      <td></td>\n",
       "      <td></td>\n",
       "    </tr>\n",
       "  </tbody>\n",
       "</table>\n",
       "</div>"
      ],
      "text/plain": [
       "     kp_id    imdb_id   type                                name  \\\n",
       "0  1334039       None  movie   Сельский детектив. Яблоня раздора   \n",
       "1    81094  tt0233325  movie  Безумный день, или Женитьба Фигаро   \n",
       "2   229058       None  movie            Коломбо: Лебединая песня   \n",
       "3   579505  tt1470173  movie                         Три хиджаба   \n",
       "4   104926  tt0452623  movie               Прощай, детка, прощай   \n",
       "5    56944  tt0045098  movie                      Рим в 11 часов   \n",
       "6    36334  tt0054324  movie                  Неоконченная песнь   \n",
       "7     2906  tt0116225  movie              Побег из Лос-Анджелеса   \n",
       "8   676363       None  movie                            Василиса   \n",
       "\n",
       "              en_name  year  length  rating_kp  rating_imdb rating_mpaa  \\\n",
       "0                None  2019     NaN      6.599          0.0        None   \n",
       "1                None  1974   170.0      8.124          8.1        None   \n",
       "2  Columbo: Swan Song  1974    94.0      7.753          8.0        None   \n",
       "3         Three Veils  2011   117.0      6.503          6.3        None   \n",
       "4      Gone Baby Gone  2007   114.0      7.334          7.6           r   \n",
       "5         Roma ore 11  1952   107.0      7.986          7.8        None   \n",
       "6    Song Without End  1960   141.0      6.461          6.0        None   \n",
       "7    Escape from L.A.  1996   101.0      6.371          5.7           r   \n",
       "8                None  2013   100.0      5.706          4.7        None   \n",
       "\n",
       "   rating_filmcritics  rating_rus_filmcritics      budget  fees_world  \\\n",
       "0                 0.0                     0.0         NaN         NaN   \n",
       "1                 0.0                     0.0         NaN         NaN   \n",
       "2                 0.0                     0.0         NaN         NaN   \n",
       "3                 0.0                     0.0         NaN         NaN   \n",
       "4                 7.8                     0.0  19000000.0  34612443.0   \n",
       "5                 0.0                     0.0         NaN         NaN   \n",
       "6                 7.0                     0.0         NaN         NaN   \n",
       "7                 5.6                     0.0  50000000.0  25477365.0   \n",
       "8                 0.0                    25.0   7000000.0         NaN   \n",
       "\n",
       "                                              slogan  \\\n",
       "0                                               None   \n",
       "1                                               None   \n",
       "2                                               None   \n",
       "3  A drama about three young Middle Eastern women...   \n",
       "4        Всем нужна правда... пока они ее не находят   \n",
       "5           Starring Italy's most electrifying girls   \n",
       "6          His Scandalous Affairs Shocked the World!   \n",
       "7                                      Змей вернулся   \n",
       "8               Моя любовь. Моя война. Моё отечество   \n",
       "\n",
       "                                         description        countries  \\\n",
       "0  Олеся Федосеева – городская девушка со скучной...           Россия   \n",
       "1  Слуга графа Альмавива весельчак и балагур Фига...             СССР   \n",
       "2  Самолет популярного кантри-певца Томми Брауна ...              США   \n",
       "3  Действие происходит в США. В центре сюжета – и...              США   \n",
       "4  В пригороде Бостона без вести пропадает четыре...              США   \n",
       "5  В основу сюжета положен реальный факт: некий р...  Италия, Франция   \n",
       "6  Музыка Ференца Листа - яркая, запоминающаяся. ...              США   \n",
       "7  США, 2013 год. В результате природных катаклиз...              США   \n",
       "8  Он дворянин, а она — крепостная крестьянка… Им...           Россия   \n",
       "\n",
       "                                              actors  \\\n",
       "0  Олеся Фаттахова, Алексей Демидов, Данила Якуше...   \n",
       "1  Андрей Миронов, Александр Ширвиндт, Вера Васил...   \n",
       "2  Питер Фальк, Джонни Кэш, Айда Лупино, Джон Ден...   \n",
       "3  Шитал Шетх, Анджела Зара, Мерседес Масон, Мадл...   \n",
       "4  Кейси Аффлек, Мишель Монахэн, Морган Фриман, Э...   \n",
       "5  Лючия Бозе, Карла Дель Поджо, Мария Грация Фра...   \n",
       "6  Дирк Богард, Капюсин, Женевьев Паж, Патриша Мо...   \n",
       "7  Курт Рассел, А.Дж. Ленджер, Стив Бушеми, Жорж ...   \n",
       "8  Светлана Ходченкова, Дмитрий Соломыкин, Жером ...   \n",
       "\n",
       "                          directors  \\\n",
       "0                    Сахат Дурсунов   \n",
       "1  Владимир Храмов, Валентин Плучек   \n",
       "2                 Николас Коласанто   \n",
       "3                      Ролла Селбак   \n",
       "4                        Бен Аффлек   \n",
       "5                Джузеппе Де Сантис   \n",
       "6       Чарльз Видор, Джордж Кьюкор   \n",
       "7                    Джон Карпентер   \n",
       "8                      Антон Сиверс   \n",
       "\n",
       "                                           producers  \\\n",
       "0   Антон Прокопович, Татьяна Пронина, Максим Лившин   \n",
       "1                                      В. Вершинский   \n",
       "2         Эдвард К. Доддс, Дин Харгров, Роланд Кибби   \n",
       "3  Ахмад Зара, Джереми Эллиотт, Фами Фарук Фараха...   \n",
       "4  Шон Бэйли, Алан Лэдд мл., Чай Картер, Дэвид Кр...   \n",
       "5                        Пол Грэц, Гоффредо Ломбардо   \n",
       "6                                        Уильям Гетц   \n",
       "7                            Дебра Хилл, Курт Рассел   \n",
       "8      Андрей Смирнов, Юрий Сапронов, Михаил Вавилов   \n",
       "\n",
       "                      operators  \\\n",
       "0              Сергей Красавцев   \n",
       "1           Геннадий Кринитский   \n",
       "2               Уильям Кронягер   \n",
       "3                    Джон Фрост   \n",
       "4                     Джон Толл   \n",
       "5               Отелло Мартелли   \n",
       "6  Джеймс Вонг Хау, Чарльз Лэнг   \n",
       "7                 Гэри Б. Кибби   \n",
       "8                  Илья Авербах   \n",
       "\n",
       "                                      similar_movies  \\\n",
       "0                                                      \n",
       "1                                                      \n",
       "2                                                      \n",
       "3                                                      \n",
       "4  3730 Таинственная река, 455194 Пленницы, 27988...   \n",
       "5                         432 Похитители велосипедов   \n",
       "6                30768 Большой вальс, 957 Интермеццо   \n",
       "7  496888 Напролом, 220594 Судный день, 2277 Побе...   \n",
       "8                                                      \n",
       "\n",
       "                                     genres             production_companies  \\\n",
       "0                       детектив, мелодрама                                    \n",
       "1                                   комедия                                    \n",
       "2         драма, криминал, детектив, музыка                                    \n",
       "3                                     драма                   Zahra Pictures   \n",
       "4        триллер, драма, криминал, детектив        Miramax, The Ladd Company   \n",
       "5                                     драма  Transcontinental Films, Titanus   \n",
       "6                  драма, биография, музыка        William Goetz Productions   \n",
       "7  фантастика, боевик, триллер, приключения  Paramount, Rysher Entertainment   \n",
       "8                        история, мелодрама                                    \n",
       "\n",
       "                                sequels_and_prequels  \n",
       "0  Сельский детектив 2. Месть Чернобога, Сельский...  \n",
       "1                                                     \n",
       "2  Коломбо: Предписание — убийство, Коломбо: Выку...  \n",
       "3                                                     \n",
       "4                                                     \n",
       "5                                                     \n",
       "6                                                     \n",
       "7                                 Побег из Нью-Йорка  \n",
       "8                                                     "
      ]
     },
     "execution_count": 52,
     "metadata": {},
     "output_type": "execute_result"
    }
   ],
   "source": [
    "ext_info_df = ext_info_parsing(sample, 0, 10)\n",
    "ext_info_df"
   ]
  },
  {
   "cell_type": "code",
   "execution_count": null,
   "metadata": {},
   "outputs": [],
   "source": []
  }
 ],
 "metadata": {
  "ExecuteTimeLog": [
   {
    "duration": 1228,
    "start_time": "2022-11-21T05:23:17.288Z"
   },
   {
    "duration": 214,
    "start_time": "2022-11-21T05:26:33.277Z"
   },
   {
    "duration": 20,
    "start_time": "2022-11-21T05:28:20.430Z"
   },
   {
    "duration": 8,
    "start_time": "2022-11-21T05:32:28.272Z"
   },
   {
    "duration": 92,
    "start_time": "2022-11-21T11:18:15.751Z"
   },
   {
    "duration": 16,
    "start_time": "2022-11-21T11:19:10.743Z"
   },
   {
    "duration": 97,
    "start_time": "2022-11-21T11:27:16.438Z"
   },
   {
    "duration": 2,
    "start_time": "2022-11-21T11:28:04.087Z"
   },
   {
    "duration": 8,
    "start_time": "2022-11-21T11:34:44.865Z"
   },
   {
    "duration": 7,
    "start_time": "2022-11-21T11:35:35.977Z"
   },
   {
    "duration": 13,
    "start_time": "2022-11-21T11:36:26.023Z"
   },
   {
    "duration": 70,
    "start_time": "2022-11-21T11:39:48.375Z"
   },
   {
    "duration": 14,
    "start_time": "2022-11-21T11:53:03.430Z"
   },
   {
    "duration": 12,
    "start_time": "2022-11-21T11:53:20.577Z"
   },
   {
    "duration": 11,
    "start_time": "2022-11-21T11:53:29.074Z"
   },
   {
    "duration": 8,
    "start_time": "2022-11-21T11:53:40.825Z"
   },
   {
    "duration": 21,
    "start_time": "2022-11-21T11:56:19.506Z"
   },
   {
    "duration": 11,
    "start_time": "2022-11-21T12:04:45.994Z"
   },
   {
    "duration": 7,
    "start_time": "2022-11-21T12:43:56.354Z"
   },
   {
    "duration": 9,
    "start_time": "2022-11-21T12:43:58.585Z"
   },
   {
    "duration": 8,
    "start_time": "2022-11-21T12:44:45.777Z"
   },
   {
    "duration": 8,
    "start_time": "2022-11-21T12:44:52.719Z"
   },
   {
    "duration": 1088,
    "start_time": "2022-11-21T12:45:00.075Z"
   },
   {
    "duration": 74,
    "start_time": "2022-11-21T12:45:01.165Z"
   },
   {
    "duration": 13,
    "start_time": "2022-11-21T12:45:01.241Z"
   },
   {
    "duration": 26,
    "start_time": "2022-11-21T12:45:01.255Z"
   },
   {
    "duration": 35,
    "start_time": "2022-11-21T12:45:01.283Z"
   },
   {
    "duration": 29,
    "start_time": "2022-11-21T12:45:01.319Z"
   },
   {
    "duration": 13,
    "start_time": "2022-11-21T12:45:01.350Z"
   },
   {
    "duration": 25,
    "start_time": "2022-11-21T12:45:01.364Z"
   },
   {
    "duration": 8,
    "start_time": "2022-11-21T12:45:01.390Z"
   },
   {
    "duration": 11,
    "start_time": "2022-11-21T12:45:01.400Z"
   },
   {
    "duration": 14,
    "start_time": "2022-11-21T12:45:01.413Z"
   },
   {
    "duration": 21,
    "start_time": "2022-11-21T12:45:01.429Z"
   },
   {
    "duration": 9,
    "start_time": "2022-11-21T12:53:04.904Z"
   },
   {
    "duration": 3,
    "start_time": "2022-11-21T12:54:01.276Z"
   },
   {
    "duration": 3,
    "start_time": "2022-11-21T12:54:07.692Z"
   },
   {
    "duration": 4,
    "start_time": "2022-11-21T13:19:00.743Z"
   },
   {
    "duration": 1055,
    "start_time": "2022-11-21T13:19:14.915Z"
   },
   {
    "duration": 71,
    "start_time": "2022-11-21T13:19:15.972Z"
   },
   {
    "duration": 14,
    "start_time": "2022-11-21T13:19:16.045Z"
   },
   {
    "duration": 14,
    "start_time": "2022-11-21T13:19:16.064Z"
   },
   {
    "duration": 14,
    "start_time": "2022-11-21T13:19:16.080Z"
   },
   {
    "duration": 16,
    "start_time": "2022-11-21T13:19:16.096Z"
   },
   {
    "duration": 13,
    "start_time": "2022-11-21T13:19:16.114Z"
   },
   {
    "duration": 25,
    "start_time": "2022-11-21T13:19:16.129Z"
   },
   {
    "duration": 101,
    "start_time": "2022-11-21T13:19:16.155Z"
   },
   {
    "duration": 0,
    "start_time": "2022-11-21T13:19:16.258Z"
   },
   {
    "duration": 0,
    "start_time": "2022-11-21T13:19:16.259Z"
   },
   {
    "duration": 0,
    "start_time": "2022-11-21T13:19:16.260Z"
   },
   {
    "duration": 0,
    "start_time": "2022-11-21T13:19:16.261Z"
   },
   {
    "duration": 413,
    "start_time": "2022-11-21T13:19:37.280Z"
   },
   {
    "duration": 8,
    "start_time": "2022-11-21T13:20:06.000Z"
   },
   {
    "duration": 997,
    "start_time": "2022-11-21T13:23:23.121Z"
   },
   {
    "duration": 248,
    "start_time": "2022-11-21T13:24:54.905Z"
   },
   {
    "duration": 242,
    "start_time": "2022-11-21T13:43:54.856Z"
   },
   {
    "duration": 613,
    "start_time": "2022-11-21T14:11:45.645Z"
   },
   {
    "duration": 26,
    "start_time": "2022-11-21T14:12:55.355Z"
   },
   {
    "duration": 35,
    "start_time": "2022-11-21T14:13:50.312Z"
   },
   {
    "duration": 1100,
    "start_time": "2022-11-21T14:14:07.092Z"
   },
   {
    "duration": 77,
    "start_time": "2022-11-21T14:14:08.195Z"
   },
   {
    "duration": 20,
    "start_time": "2022-11-21T14:14:08.274Z"
   },
   {
    "duration": 10,
    "start_time": "2022-11-21T14:14:08.297Z"
   },
   {
    "duration": 18,
    "start_time": "2022-11-21T14:14:08.309Z"
   },
   {
    "duration": 35,
    "start_time": "2022-11-21T14:14:08.328Z"
   },
   {
    "duration": 21,
    "start_time": "2022-11-21T14:14:08.365Z"
   },
   {
    "duration": 17,
    "start_time": "2022-11-21T14:14:08.388Z"
   },
   {
    "duration": 35,
    "start_time": "2022-11-21T14:14:08.407Z"
   },
   {
    "duration": 2,
    "start_time": "2022-11-21T14:14:08.444Z"
   },
   {
    "duration": 14,
    "start_time": "2022-11-21T14:14:08.454Z"
   },
   {
    "duration": 8,
    "start_time": "2022-11-21T14:14:08.470Z"
   },
   {
    "duration": 8,
    "start_time": "2022-11-21T14:14:08.481Z"
   },
   {
    "duration": 14,
    "start_time": "2022-11-21T14:14:08.491Z"
   },
   {
    "duration": 35,
    "start_time": "2022-11-21T14:18:40.309Z"
   },
   {
    "duration": 32,
    "start_time": "2022-11-21T14:22:33.940Z"
   },
   {
    "duration": 32,
    "start_time": "2022-11-21T14:22:41.257Z"
   },
   {
    "duration": 30,
    "start_time": "2022-11-21T14:22:46.536Z"
   },
   {
    "duration": 28,
    "start_time": "2022-11-21T14:22:52.202Z"
   },
   {
    "duration": 43,
    "start_time": "2022-11-21T14:22:56.435Z"
   },
   {
    "duration": 39,
    "start_time": "2022-11-21T14:23:06.799Z"
   },
   {
    "duration": 39,
    "start_time": "2022-11-21T14:31:39.382Z"
   },
   {
    "duration": 40,
    "start_time": "2022-11-21T14:33:05.106Z"
   },
   {
    "duration": 124,
    "start_time": "2022-11-21T14:36:40.411Z"
   },
   {
    "duration": 1574,
    "start_time": "2022-11-21T14:38:51.088Z"
   },
   {
    "duration": 497,
    "start_time": "2022-11-21T14:39:08.708Z"
   },
   {
    "duration": 375,
    "start_time": "2022-11-21T14:39:33.969Z"
   },
   {
    "duration": 24,
    "start_time": "2022-11-21T14:39:47.224Z"
   },
   {
    "duration": 1256,
    "start_time": "2022-11-21T14:40:48.306Z"
   },
   {
    "duration": 82,
    "start_time": "2022-11-21T14:40:49.564Z"
   },
   {
    "duration": 20,
    "start_time": "2022-11-21T14:40:49.648Z"
   },
   {
    "duration": 21,
    "start_time": "2022-11-21T14:40:49.670Z"
   },
   {
    "duration": 15,
    "start_time": "2022-11-21T14:40:49.693Z"
   },
   {
    "duration": 17,
    "start_time": "2022-11-21T14:40:49.709Z"
   },
   {
    "duration": 12,
    "start_time": "2022-11-21T14:40:49.728Z"
   },
   {
    "duration": 33,
    "start_time": "2022-11-21T14:40:49.751Z"
   },
   {
    "duration": 61,
    "start_time": "2022-11-21T14:40:49.786Z"
   },
   {
    "duration": 471,
    "start_time": "2022-11-21T14:40:49.849Z"
   },
   {
    "duration": 2,
    "start_time": "2022-11-21T14:40:50.322Z"
   },
   {
    "duration": 7,
    "start_time": "2022-11-21T14:40:50.326Z"
   },
   {
    "duration": 9,
    "start_time": "2022-11-21T14:40:50.335Z"
   },
   {
    "duration": 12,
    "start_time": "2022-11-21T14:40:50.353Z"
   },
   {
    "duration": 107,
    "start_time": "2022-11-21T14:42:40.983Z"
   },
   {
    "duration": 246,
    "start_time": "2022-11-21T14:42:58.474Z"
   },
   {
    "duration": 1163,
    "start_time": "2022-11-21T14:43:15.126Z"
   },
   {
    "duration": 70,
    "start_time": "2022-11-21T14:43:16.291Z"
   },
   {
    "duration": 17,
    "start_time": "2022-11-21T14:43:16.362Z"
   },
   {
    "duration": 11,
    "start_time": "2022-11-21T14:43:16.382Z"
   },
   {
    "duration": 26,
    "start_time": "2022-11-21T14:43:16.394Z"
   },
   {
    "duration": 31,
    "start_time": "2022-11-21T14:43:16.422Z"
   },
   {
    "duration": 9,
    "start_time": "2022-11-21T14:43:16.455Z"
   },
   {
    "duration": 19,
    "start_time": "2022-11-21T14:43:16.466Z"
   },
   {
    "duration": 41,
    "start_time": "2022-11-21T14:43:16.486Z"
   },
   {
    "duration": 445,
    "start_time": "2022-11-21T14:43:16.552Z"
   },
   {
    "duration": 2,
    "start_time": "2022-11-21T14:43:16.999Z"
   },
   {
    "duration": 9,
    "start_time": "2022-11-21T14:43:17.003Z"
   },
   {
    "duration": 6,
    "start_time": "2022-11-21T14:43:17.013Z"
   },
   {
    "duration": 13,
    "start_time": "2022-11-21T14:43:17.020Z"
   },
   {
    "duration": 4,
    "start_time": "2022-11-21T14:43:55.738Z"
   },
   {
    "duration": 47,
    "start_time": "2022-11-21T14:44:53.684Z"
   },
   {
    "duration": 1249,
    "start_time": "2022-11-21T14:45:30.530Z"
   },
   {
    "duration": 74,
    "start_time": "2022-11-21T14:45:31.781Z"
   },
   {
    "duration": 18,
    "start_time": "2022-11-21T14:45:31.857Z"
   },
   {
    "duration": 17,
    "start_time": "2022-11-21T14:45:31.878Z"
   },
   {
    "duration": 15,
    "start_time": "2022-11-21T14:45:31.898Z"
   },
   {
    "duration": 35,
    "start_time": "2022-11-21T14:45:31.915Z"
   },
   {
    "duration": 31,
    "start_time": "2022-11-21T14:45:31.952Z"
   },
   {
    "duration": 28,
    "start_time": "2022-11-21T14:45:31.985Z"
   },
   {
    "duration": 57,
    "start_time": "2022-11-21T14:45:32.014Z"
   },
   {
    "duration": 497,
    "start_time": "2022-11-21T14:45:32.073Z"
   },
   {
    "duration": 4,
    "start_time": "2022-11-21T14:45:32.574Z"
   },
   {
    "duration": 18,
    "start_time": "2022-11-21T14:45:32.581Z"
   },
   {
    "duration": 13,
    "start_time": "2022-11-21T14:45:32.602Z"
   },
   {
    "duration": 19,
    "start_time": "2022-11-21T14:45:32.617Z"
   },
   {
    "duration": 35,
    "start_time": "2022-11-21T14:46:50.611Z"
   },
   {
    "duration": 36,
    "start_time": "2022-11-21T14:56:25.811Z"
   },
   {
    "duration": 7,
    "start_time": "2022-11-21T14:59:43.063Z"
   },
   {
    "duration": 9,
    "start_time": "2022-11-21T14:59:46.094Z"
   },
   {
    "duration": 7,
    "start_time": "2022-11-21T15:00:22.111Z"
   },
   {
    "duration": 14,
    "start_time": "2022-11-21T15:47:20.859Z"
   },
   {
    "duration": 14,
    "start_time": "2022-11-21T15:48:03.651Z"
   },
   {
    "duration": 32,
    "start_time": "2022-11-21T15:49:14.293Z"
   },
   {
    "duration": 17,
    "start_time": "2022-11-21T15:50:00.403Z"
   },
   {
    "duration": 73,
    "start_time": "2022-11-21T15:57:38.938Z"
   },
   {
    "duration": 19,
    "start_time": "2022-11-21T15:57:44.054Z"
   },
   {
    "duration": 17,
    "start_time": "2022-11-21T15:59:32.751Z"
   },
   {
    "duration": 22,
    "start_time": "2022-11-21T16:00:10.056Z"
   },
   {
    "duration": 30,
    "start_time": "2022-11-21T16:00:37.947Z"
   },
   {
    "duration": 49,
    "start_time": "2022-11-21T16:01:00.811Z"
   },
   {
    "duration": 17,
    "start_time": "2022-11-21T16:01:30.396Z"
   },
   {
    "duration": 9,
    "start_time": "2022-11-21T16:03:11.637Z"
   },
   {
    "duration": 5,
    "start_time": "2022-11-21T16:07:38.171Z"
   },
   {
    "duration": 1135,
    "start_time": "2022-11-21T16:07:52.230Z"
   },
   {
    "duration": 65,
    "start_time": "2022-11-21T16:07:53.367Z"
   },
   {
    "duration": 13,
    "start_time": "2022-11-21T16:07:53.434Z"
   },
   {
    "duration": 8,
    "start_time": "2022-11-21T16:07:53.448Z"
   },
   {
    "duration": 13,
    "start_time": "2022-11-21T16:07:53.458Z"
   },
   {
    "duration": 6,
    "start_time": "2022-11-21T16:07:53.473Z"
   },
   {
    "duration": 14,
    "start_time": "2022-11-21T16:07:53.480Z"
   },
   {
    "duration": 9,
    "start_time": "2022-11-21T16:07:53.495Z"
   },
   {
    "duration": 14,
    "start_time": "2022-11-21T16:07:53.505Z"
   },
   {
    "duration": 67,
    "start_time": "2022-11-21T16:07:53.521Z"
   },
   {
    "duration": 311,
    "start_time": "2022-11-21T16:07:53.590Z"
   },
   {
    "duration": 34,
    "start_time": "2022-11-21T16:07:53.902Z"
   },
   {
    "duration": 19,
    "start_time": "2022-11-21T16:07:53.937Z"
   },
   {
    "duration": 17,
    "start_time": "2022-11-21T16:07:53.958Z"
   },
   {
    "duration": 17,
    "start_time": "2022-11-21T16:07:53.977Z"
   },
   {
    "duration": 18,
    "start_time": "2022-11-21T16:07:53.995Z"
   },
   {
    "duration": 3,
    "start_time": "2022-11-21T16:07:54.015Z"
   },
   {
    "duration": 35,
    "start_time": "2022-11-21T16:07:54.019Z"
   },
   {
    "duration": 117,
    "start_time": "2022-11-21T16:10:39.639Z"
   },
   {
    "duration": 4,
    "start_time": "2022-11-21T16:11:30.148Z"
   },
   {
    "duration": 15,
    "start_time": "2022-11-21T16:11:49.591Z"
   },
   {
    "duration": 5,
    "start_time": "2022-11-21T16:22:04.568Z"
   },
   {
    "duration": 7,
    "start_time": "2022-11-21T16:24:49.977Z"
   },
   {
    "duration": 17,
    "start_time": "2022-11-21T16:24:58.429Z"
   },
   {
    "duration": 6,
    "start_time": "2022-11-21T16:25:28.709Z"
   },
   {
    "duration": 5,
    "start_time": "2022-11-21T16:32:47.317Z"
   },
   {
    "duration": 12,
    "start_time": "2022-11-21T16:32:54.620Z"
   },
   {
    "duration": 16,
    "start_time": "2022-11-21T16:33:19.216Z"
   },
   {
    "duration": 6,
    "start_time": "2022-11-21T16:34:03.025Z"
   },
   {
    "duration": 9,
    "start_time": "2022-11-21T16:34:07.897Z"
   },
   {
    "duration": 7,
    "start_time": "2022-11-21T16:34:18.669Z"
   },
   {
    "duration": 8,
    "start_time": "2022-11-21T16:39:09.507Z"
   },
   {
    "duration": 5,
    "start_time": "2022-11-21T16:44:29.245Z"
   },
   {
    "duration": 6,
    "start_time": "2022-11-21T16:44:53.218Z"
   },
   {
    "duration": 3,
    "start_time": "2022-11-21T16:44:55.489Z"
   },
   {
    "duration": 5,
    "start_time": "2022-11-21T16:46:10.049Z"
   },
   {
    "duration": 15,
    "start_time": "2022-11-21T16:47:54.763Z"
   },
   {
    "duration": 13,
    "start_time": "2022-11-21T16:48:04.170Z"
   },
   {
    "duration": 18,
    "start_time": "2022-11-21T16:55:47.245Z"
   },
   {
    "duration": 12,
    "start_time": "2022-11-21T16:56:16.378Z"
   },
   {
    "duration": 27,
    "start_time": "2022-11-21T18:44:00.730Z"
   },
   {
    "duration": 22,
    "start_time": "2022-11-21T18:44:26.911Z"
   },
   {
    "duration": 20,
    "start_time": "2022-11-21T18:48:21.900Z"
   },
   {
    "duration": 26,
    "start_time": "2022-11-21T19:05:18.695Z"
   },
   {
    "duration": 16,
    "start_time": "2022-11-21T19:05:25.247Z"
   },
   {
    "duration": 33,
    "start_time": "2022-11-21T19:08:36.617Z"
   },
   {
    "duration": 12,
    "start_time": "2022-11-21T19:10:42.295Z"
   },
   {
    "duration": 11,
    "start_time": "2022-11-21T19:14:17.751Z"
   },
   {
    "duration": 8,
    "start_time": "2022-11-21T19:28:22.332Z"
   },
   {
    "duration": 10,
    "start_time": "2022-11-21T19:29:27.329Z"
   },
   {
    "duration": 5,
    "start_time": "2022-11-21T19:32:43.564Z"
   },
   {
    "duration": 403,
    "start_time": "2022-11-21T19:39:53.256Z"
   },
   {
    "duration": 359,
    "start_time": "2022-11-21T19:40:53.961Z"
   },
   {
    "duration": 413,
    "start_time": "2022-11-21T19:41:38.696Z"
   },
   {
    "duration": 374,
    "start_time": "2022-11-21T19:41:49.904Z"
   },
   {
    "duration": 419,
    "start_time": "2022-11-21T19:42:52.910Z"
   },
   {
    "duration": 349,
    "start_time": "2022-11-21T19:43:07.753Z"
   },
   {
    "duration": 245,
    "start_time": "2022-11-21T19:43:24.701Z"
   },
   {
    "duration": 370,
    "start_time": "2022-11-21T19:49:36.293Z"
   },
   {
    "duration": 393,
    "start_time": "2022-11-21T20:04:38.323Z"
   },
   {
    "duration": 355,
    "start_time": "2022-11-21T20:04:49.305Z"
   },
   {
    "duration": 255,
    "start_time": "2022-11-21T20:36:57.048Z"
   },
   {
    "duration": 347,
    "start_time": "2022-11-21T20:37:21.656Z"
   },
   {
    "duration": 15,
    "start_time": "2022-11-21T20:54:57.591Z"
   },
   {
    "duration": 16,
    "start_time": "2022-11-21T20:55:57.163Z"
   },
   {
    "duration": 17,
    "start_time": "2022-11-21T21:43:52.678Z"
   },
   {
    "duration": 16,
    "start_time": "2022-11-21T21:53:37.255Z"
   },
   {
    "duration": 15,
    "start_time": "2022-11-21T21:53:54.192Z"
   },
   {
    "duration": 10,
    "start_time": "2022-11-21T21:56:54.966Z"
   },
   {
    "duration": 9,
    "start_time": "2022-11-21T21:59:23.591Z"
   },
   {
    "duration": 4,
    "start_time": "2022-11-21T22:00:07.341Z"
   },
   {
    "duration": 13,
    "start_time": "2022-11-21T22:00:09.825Z"
   },
   {
    "duration": 213,
    "start_time": "2022-11-21T22:00:52.369Z"
   },
   {
    "duration": 7,
    "start_time": "2022-11-21T22:01:21.970Z"
   },
   {
    "duration": 12,
    "start_time": "2022-11-21T22:03:30.126Z"
   },
   {
    "duration": 9,
    "start_time": "2022-11-21T22:04:08.276Z"
   },
   {
    "duration": 4,
    "start_time": "2022-11-21T22:04:27.806Z"
   },
   {
    "duration": 163,
    "start_time": "2022-11-21T22:04:30.941Z"
   },
   {
    "duration": 8,
    "start_time": "2022-11-21T22:05:09.150Z"
   },
   {
    "duration": 8,
    "start_time": "2022-11-21T22:05:20.062Z"
   },
   {
    "duration": 8,
    "start_time": "2022-11-21T22:05:30.225Z"
   },
   {
    "duration": 8,
    "start_time": "2022-11-21T22:06:10.019Z"
   },
   {
    "duration": 7,
    "start_time": "2022-11-21T22:07:49.451Z"
   },
   {
    "duration": 9,
    "start_time": "2022-11-21T22:08:10.927Z"
   },
   {
    "duration": 164,
    "start_time": "2022-11-21T22:08:29.196Z"
   },
   {
    "duration": 103,
    "start_time": "2022-11-21T22:08:52.188Z"
   },
   {
    "duration": 169,
    "start_time": "2022-11-21T22:09:23.634Z"
   },
   {
    "duration": 8,
    "start_time": "2022-11-21T22:14:18.825Z"
   },
   {
    "duration": 26,
    "start_time": "2022-11-21T22:18:53.683Z"
   },
   {
    "duration": 7,
    "start_time": "2022-11-21T22:19:19.566Z"
   },
   {
    "duration": 157,
    "start_time": "2022-11-21T22:19:36.065Z"
   },
   {
    "duration": 199,
    "start_time": "2022-11-21T22:20:27.980Z"
   },
   {
    "duration": 23,
    "start_time": "2022-11-21T22:21:02.864Z"
   },
   {
    "duration": 6,
    "start_time": "2022-11-21T22:22:27.496Z"
   },
   {
    "duration": 212,
    "start_time": "2022-11-21T22:23:39.000Z"
   },
   {
    "duration": 175,
    "start_time": "2022-11-21T22:24:08.160Z"
   },
   {
    "duration": 194,
    "start_time": "2022-11-21T22:25:00.793Z"
   },
   {
    "duration": 177,
    "start_time": "2022-11-21T22:25:10.661Z"
   },
   {
    "duration": 2,
    "start_time": "2022-11-21T22:29:28.987Z"
   },
   {
    "duration": 265,
    "start_time": "2022-11-21T22:30:08.352Z"
   },
   {
    "duration": 213,
    "start_time": "2022-11-21T22:35:19.041Z"
   },
   {
    "duration": 172,
    "start_time": "2022-11-21T22:35:46.751Z"
   },
   {
    "duration": 164,
    "start_time": "2022-11-21T22:36:21.683Z"
   },
   {
    "duration": 167,
    "start_time": "2022-11-21T22:37:42.124Z"
   },
   {
    "duration": 174,
    "start_time": "2022-11-21T22:39:58.013Z"
   },
   {
    "duration": 171,
    "start_time": "2022-11-21T22:40:36.838Z"
   },
   {
    "duration": 294,
    "start_time": "2022-11-21T22:41:37.754Z"
   },
   {
    "duration": 160,
    "start_time": "2022-11-21T22:42:20.299Z"
   },
   {
    "duration": 174,
    "start_time": "2022-11-21T22:42:27.371Z"
   },
   {
    "duration": 192,
    "start_time": "2022-11-21T22:42:39.555Z"
   },
   {
    "duration": 280,
    "start_time": "2022-11-21T22:42:55.619Z"
   },
   {
    "duration": 2,
    "start_time": "2022-11-21T22:44:04.524Z"
   },
   {
    "duration": 193,
    "start_time": "2022-11-21T22:45:00.947Z"
   },
   {
    "duration": 176,
    "start_time": "2022-11-21T22:45:11.729Z"
   },
   {
    "duration": 178,
    "start_time": "2022-11-21T22:45:15.829Z"
   },
   {
    "duration": 183,
    "start_time": "2022-11-21T22:45:47.077Z"
   },
   {
    "duration": 174,
    "start_time": "2022-11-21T22:47:01.840Z"
   },
   {
    "duration": 206,
    "start_time": "2022-11-21T22:50:29.362Z"
   },
   {
    "duration": 212,
    "start_time": "2022-11-21T22:50:40.483Z"
   },
   {
    "duration": 198,
    "start_time": "2022-11-21T22:50:45.939Z"
   },
   {
    "duration": 198,
    "start_time": "2022-11-21T22:51:01.411Z"
   },
   {
    "duration": 207,
    "start_time": "2022-11-21T22:52:45.264Z"
   },
   {
    "duration": 361,
    "start_time": "2022-11-21T22:54:55.494Z"
   },
   {
    "duration": 76,
    "start_time": "2022-11-21T23:27:01.402Z"
   },
   {
    "duration": 15,
    "start_time": "2022-11-21T23:36:27.150Z"
   },
   {
    "duration": 7,
    "start_time": "2022-11-21T23:36:46.326Z"
   },
   {
    "duration": 7,
    "start_time": "2022-11-21T23:36:59.210Z"
   },
   {
    "duration": 12,
    "start_time": "2022-11-21T23:39:06.850Z"
   },
   {
    "duration": 3066,
    "start_time": "2022-11-21T23:41:32.530Z"
   },
   {
    "duration": 3091,
    "start_time": "2022-11-21T23:42:14.526Z"
   },
   {
    "duration": 2,
    "start_time": "2022-11-21T23:44:00.225Z"
   },
   {
    "duration": 2014,
    "start_time": "2022-11-21T23:48:54.078Z"
   },
   {
    "duration": 250,
    "start_time": "2022-11-21T23:50:48.097Z"
   },
   {
    "duration": 2,
    "start_time": "2022-11-21T23:52:46.536Z"
   },
   {
    "duration": 3034,
    "start_time": "2022-11-21T23:53:00.669Z"
   },
   {
    "duration": 277,
    "start_time": "2022-11-21T23:59:18.959Z"
   },
   {
    "duration": 343,
    "start_time": "2022-11-22T00:00:24.160Z"
   },
   {
    "duration": 29,
    "start_time": "2022-11-22T00:01:57.273Z"
   },
   {
    "duration": 74,
    "start_time": "2022-11-22T00:02:38.793Z"
   },
   {
    "duration": 322,
    "start_time": "2022-11-22T00:03:22.162Z"
   },
   {
    "duration": 261,
    "start_time": "2022-11-22T00:04:03.594Z"
   },
   {
    "duration": 1563,
    "start_time": "2022-11-22T00:07:50.766Z"
   },
   {
    "duration": 1703,
    "start_time": "2022-11-22T00:11:08.572Z"
   },
   {
    "duration": 265,
    "start_time": "2022-11-22T00:13:23.733Z"
   },
   {
    "duration": 11,
    "start_time": "2022-11-22T00:14:24.939Z"
   },
   {
    "duration": 672,
    "start_time": "2022-11-22T00:15:01.808Z"
   },
   {
    "duration": 285,
    "start_time": "2022-11-22T00:15:53.627Z"
   },
   {
    "duration": 78,
    "start_time": "2022-11-22T00:16:33.486Z"
   },
   {
    "duration": 262,
    "start_time": "2022-11-22T00:17:03.427Z"
   },
   {
    "duration": 1545,
    "start_time": "2022-11-22T00:18:30.967Z"
   },
   {
    "duration": 1486,
    "start_time": "2022-11-22T00:19:48.279Z"
   },
   {
    "duration": 1397,
    "start_time": "2022-11-22T10:42:40.969Z"
   },
   {
    "duration": 198,
    "start_time": "2022-11-22T10:42:42.368Z"
   },
   {
    "duration": 17,
    "start_time": "2022-11-22T10:42:42.568Z"
   },
   {
    "duration": 11,
    "start_time": "2022-11-22T10:42:42.588Z"
   },
   {
    "duration": 32,
    "start_time": "2022-11-22T10:42:42.601Z"
   },
   {
    "duration": 10,
    "start_time": "2022-11-22T10:42:42.635Z"
   },
   {
    "duration": 13,
    "start_time": "2022-11-22T10:42:42.647Z"
   },
   {
    "duration": 7,
    "start_time": "2022-11-22T10:42:42.662Z"
   },
   {
    "duration": 23,
    "start_time": "2022-11-22T10:42:42.671Z"
   },
   {
    "duration": 35,
    "start_time": "2022-11-22T10:42:42.696Z"
   },
   {
    "duration": 18,
    "start_time": "2022-11-22T10:42:42.733Z"
   },
   {
    "duration": 93,
    "start_time": "2022-11-22T10:42:42.754Z"
   },
   {
    "duration": 323,
    "start_time": "2022-11-22T10:42:42.850Z"
   },
   {
    "duration": 37,
    "start_time": "2022-11-22T10:42:43.175Z"
   },
   {
    "duration": 18,
    "start_time": "2022-11-22T10:42:43.214Z"
   },
   {
    "duration": 29,
    "start_time": "2022-11-22T10:42:43.234Z"
   },
   {
    "duration": 22,
    "start_time": "2022-11-22T10:42:43.265Z"
   },
   {
    "duration": 46,
    "start_time": "2022-11-22T10:42:43.289Z"
   },
   {
    "duration": 12,
    "start_time": "2022-11-22T10:42:43.337Z"
   },
   {
    "duration": 19,
    "start_time": "2022-11-22T10:42:43.351Z"
   },
   {
    "duration": 69,
    "start_time": "2022-11-22T10:42:43.372Z"
   },
   {
    "duration": 0,
    "start_time": "2022-11-22T10:42:43.443Z"
   },
   {
    "duration": 0,
    "start_time": "2022-11-22T10:42:43.445Z"
   },
   {
    "duration": 0,
    "start_time": "2022-11-22T10:42:43.452Z"
   },
   {
    "duration": 0,
    "start_time": "2022-11-22T10:42:43.454Z"
   },
   {
    "duration": 0,
    "start_time": "2022-11-22T10:42:43.456Z"
   },
   {
    "duration": 0,
    "start_time": "2022-11-22T10:42:43.457Z"
   },
   {
    "duration": 0,
    "start_time": "2022-11-22T10:42:43.459Z"
   },
   {
    "duration": 0,
    "start_time": "2022-11-22T10:42:43.461Z"
   },
   {
    "duration": 0,
    "start_time": "2022-11-22T10:42:43.468Z"
   },
   {
    "duration": 0,
    "start_time": "2022-11-22T10:42:43.470Z"
   },
   {
    "duration": 0,
    "start_time": "2022-11-22T10:42:43.471Z"
   },
   {
    "duration": 0,
    "start_time": "2022-11-22T10:42:43.472Z"
   },
   {
    "duration": 0,
    "start_time": "2022-11-22T10:42:43.473Z"
   },
   {
    "duration": 92,
    "start_time": "2022-11-22T10:43:25.703Z"
   },
   {
    "duration": 1124,
    "start_time": "2022-11-22T10:43:33.415Z"
   },
   {
    "duration": 66,
    "start_time": "2022-11-22T10:43:34.541Z"
   },
   {
    "duration": 14,
    "start_time": "2022-11-22T10:43:34.608Z"
   },
   {
    "duration": 8,
    "start_time": "2022-11-22T10:43:34.624Z"
   },
   {
    "duration": 17,
    "start_time": "2022-11-22T10:43:34.633Z"
   },
   {
    "duration": 24,
    "start_time": "2022-11-22T10:43:34.652Z"
   },
   {
    "duration": 30,
    "start_time": "2022-11-22T10:43:34.678Z"
   },
   {
    "duration": 16,
    "start_time": "2022-11-22T10:43:34.710Z"
   },
   {
    "duration": 27,
    "start_time": "2022-11-22T10:43:34.728Z"
   },
   {
    "duration": 15,
    "start_time": "2022-11-22T10:43:34.758Z"
   },
   {
    "duration": 26,
    "start_time": "2022-11-22T10:43:34.775Z"
   },
   {
    "duration": 62,
    "start_time": "2022-11-22T10:43:34.802Z"
   },
   {
    "duration": 331,
    "start_time": "2022-11-22T10:43:34.866Z"
   },
   {
    "duration": 39,
    "start_time": "2022-11-22T10:43:35.199Z"
   },
   {
    "duration": 57,
    "start_time": "2022-11-22T10:43:35.240Z"
   },
   {
    "duration": 27,
    "start_time": "2022-11-22T10:43:35.298Z"
   },
   {
    "duration": 32,
    "start_time": "2022-11-22T10:43:35.327Z"
   },
   {
    "duration": 23,
    "start_time": "2022-11-22T10:43:35.362Z"
   },
   {
    "duration": 18,
    "start_time": "2022-11-22T10:43:35.387Z"
   },
   {
    "duration": 31,
    "start_time": "2022-11-22T10:43:35.407Z"
   },
   {
    "duration": 23,
    "start_time": "2022-11-22T10:43:35.439Z"
   },
   {
    "duration": 29,
    "start_time": "2022-11-22T10:43:35.464Z"
   },
   {
    "duration": 28,
    "start_time": "2022-11-22T10:43:35.495Z"
   },
   {
    "duration": 21,
    "start_time": "2022-11-22T10:43:35.524Z"
   },
   {
    "duration": 535,
    "start_time": "2022-11-22T10:43:35.546Z"
   },
   {
    "duration": 16,
    "start_time": "2022-11-22T10:43:36.083Z"
   },
   {
    "duration": 8,
    "start_time": "2022-11-22T10:43:36.101Z"
   },
   {
    "duration": 15,
    "start_time": "2022-11-22T10:43:36.114Z"
   },
   {
    "duration": 212,
    "start_time": "2022-11-22T10:43:36.131Z"
   },
   {
    "duration": 1434,
    "start_time": "2022-11-22T10:43:36.345Z"
   },
   {
    "duration": 13,
    "start_time": "2022-11-22T10:43:37.781Z"
   },
   {
    "duration": 3,
    "start_time": "2022-11-22T10:43:37.796Z"
   },
   {
    "duration": 25,
    "start_time": "2022-11-22T10:43:37.801Z"
   },
   {
    "duration": 19,
    "start_time": "2022-11-22T12:11:31.575Z"
   },
   {
    "duration": 17,
    "start_time": "2022-11-22T12:13:30.896Z"
   },
   {
    "duration": 21,
    "start_time": "2022-11-22T12:14:15.934Z"
   },
   {
    "duration": 14,
    "start_time": "2022-11-22T12:19:14.598Z"
   },
   {
    "duration": 2,
    "start_time": "2022-11-22T12:22:50.611Z"
   },
   {
    "duration": 105,
    "start_time": "2022-11-22T12:29:04.926Z"
   },
   {
    "duration": 12,
    "start_time": "2022-11-22T12:29:12.359Z"
   },
   {
    "duration": 13,
    "start_time": "2022-11-22T12:29:52.722Z"
   },
   {
    "duration": 13,
    "start_time": "2022-11-22T12:30:15.954Z"
   },
   {
    "duration": 12,
    "start_time": "2022-11-22T12:30:58.475Z"
   },
   {
    "duration": 10,
    "start_time": "2022-11-22T12:33:22.862Z"
   },
   {
    "duration": 13,
    "start_time": "2022-11-22T12:34:04.076Z"
   },
   {
    "duration": 95,
    "start_time": "2022-11-22T12:34:15.240Z"
   },
   {
    "duration": 20,
    "start_time": "2022-11-22T12:34:30.561Z"
   },
   {
    "duration": 14,
    "start_time": "2022-11-22T12:34:36.540Z"
   },
   {
    "duration": 18,
    "start_time": "2022-11-22T12:37:33.701Z"
   },
   {
    "duration": 17,
    "start_time": "2022-11-22T12:37:41.801Z"
   },
   {
    "duration": 17,
    "start_time": "2022-11-22T12:37:49.005Z"
   },
   {
    "duration": 17,
    "start_time": "2022-11-22T12:37:57.914Z"
   },
   {
    "duration": 77,
    "start_time": "2022-11-22T12:38:17.550Z"
   },
   {
    "duration": 17,
    "start_time": "2022-11-22T12:38:24.402Z"
   },
   {
    "duration": 15,
    "start_time": "2022-11-22T12:38:38.027Z"
   },
   {
    "duration": 17,
    "start_time": "2022-11-22T12:38:47.850Z"
   },
   {
    "duration": 15,
    "start_time": "2022-11-22T12:39:04.858Z"
   },
   {
    "duration": 30,
    "start_time": "2022-11-22T12:42:01.456Z"
   },
   {
    "duration": 20,
    "start_time": "2022-11-22T12:42:20.847Z"
   },
   {
    "duration": 21,
    "start_time": "2022-11-22T12:42:51.688Z"
   },
   {
    "duration": 73,
    "start_time": "2022-11-22T12:46:17.553Z"
   },
   {
    "duration": 19,
    "start_time": "2022-11-22T15:20:41.094Z"
   },
   {
    "duration": 257,
    "start_time": "2022-11-22T16:44:01.187Z"
   },
   {
    "duration": 245,
    "start_time": "2022-11-22T16:44:18.870Z"
   },
   {
    "duration": 208,
    "start_time": "2022-11-22T16:44:30.279Z"
   },
   {
    "duration": 193,
    "start_time": "2022-11-22T17:22:25.849Z"
   },
   {
    "duration": 200,
    "start_time": "2022-11-22T17:24:32.952Z"
   },
   {
    "duration": 31,
    "start_time": "2022-11-22T17:47:45.754Z"
   },
   {
    "duration": 8,
    "start_time": "2022-11-22T17:48:07.869Z"
   },
   {
    "duration": 21,
    "start_time": "2022-11-22T18:13:50.120Z"
   },
   {
    "duration": 15,
    "start_time": "2022-11-22T18:15:37.026Z"
   },
   {
    "duration": 7,
    "start_time": "2022-11-22T18:16:31.543Z"
   },
   {
    "duration": 7,
    "start_time": "2022-11-22T18:17:01.696Z"
   },
   {
    "duration": 191,
    "start_time": "2022-11-22T18:17:04.094Z"
   },
   {
    "duration": 1034,
    "start_time": "2022-11-22T19:33:43.184Z"
   },
   {
    "duration": 64,
    "start_time": "2022-11-22T19:33:44.220Z"
   },
   {
    "duration": 12,
    "start_time": "2022-11-22T19:33:44.285Z"
   },
   {
    "duration": 7,
    "start_time": "2022-11-22T19:33:44.299Z"
   },
   {
    "duration": 13,
    "start_time": "2022-11-22T19:33:44.307Z"
   },
   {
    "duration": 7,
    "start_time": "2022-11-22T19:33:44.321Z"
   },
   {
    "duration": 8,
    "start_time": "2022-11-22T19:33:44.330Z"
   },
   {
    "duration": 4,
    "start_time": "2022-11-22T19:33:44.340Z"
   },
   {
    "duration": 14,
    "start_time": "2022-11-22T19:33:44.346Z"
   },
   {
    "duration": 8,
    "start_time": "2022-11-22T19:33:44.363Z"
   },
   {
    "duration": 22,
    "start_time": "2022-11-22T19:33:44.372Z"
   },
   {
    "duration": 56,
    "start_time": "2022-11-22T19:33:44.396Z"
   },
   {
    "duration": 310,
    "start_time": "2022-11-22T19:33:44.454Z"
   },
   {
    "duration": 32,
    "start_time": "2022-11-22T19:33:44.765Z"
   },
   {
    "duration": 6,
    "start_time": "2022-11-22T19:33:44.799Z"
   },
   {
    "duration": 30,
    "start_time": "2022-11-22T19:33:44.806Z"
   },
   {
    "duration": 16,
    "start_time": "2022-11-22T19:33:44.837Z"
   },
   {
    "duration": 29,
    "start_time": "2022-11-22T19:33:44.855Z"
   },
   {
    "duration": 9,
    "start_time": "2022-11-22T19:33:44.886Z"
   },
   {
    "duration": 30,
    "start_time": "2022-11-22T19:33:44.896Z"
   },
   {
    "duration": 17,
    "start_time": "2022-11-22T19:33:44.928Z"
   },
   {
    "duration": 14,
    "start_time": "2022-11-22T19:33:44.947Z"
   },
   {
    "duration": 12,
    "start_time": "2022-11-22T19:33:44.962Z"
   },
   {
    "duration": 6,
    "start_time": "2022-11-22T19:33:44.976Z"
   },
   {
    "duration": 430,
    "start_time": "2022-11-22T19:33:44.983Z"
   },
   {
    "duration": 20,
    "start_time": "2022-11-22T19:33:45.415Z"
   },
   {
    "duration": 7,
    "start_time": "2022-11-22T19:33:45.439Z"
   },
   {
    "duration": 12,
    "start_time": "2022-11-22T19:33:45.450Z"
   },
   {
    "duration": 238,
    "start_time": "2022-11-22T19:33:45.464Z"
   },
   {
    "duration": 99,
    "start_time": "2022-11-22T19:33:45.704Z"
   },
   {
    "duration": 0,
    "start_time": "2022-11-22T19:33:45.804Z"
   },
   {
    "duration": 0,
    "start_time": "2022-11-22T19:33:45.806Z"
   },
   {
    "duration": 0,
    "start_time": "2022-11-22T19:33:45.807Z"
   },
   {
    "duration": 0,
    "start_time": "2022-11-22T19:33:45.808Z"
   },
   {
    "duration": 0,
    "start_time": "2022-11-22T19:33:45.809Z"
   },
   {
    "duration": 0,
    "start_time": "2022-11-22T19:33:45.811Z"
   },
   {
    "duration": 0,
    "start_time": "2022-11-22T19:33:45.812Z"
   },
   {
    "duration": 0,
    "start_time": "2022-11-22T19:33:45.826Z"
   },
   {
    "duration": 0,
    "start_time": "2022-11-22T19:33:45.827Z"
   },
   {
    "duration": 0,
    "start_time": "2022-11-22T19:33:45.829Z"
   },
   {
    "duration": 0,
    "start_time": "2022-11-22T19:33:45.831Z"
   },
   {
    "duration": 1037,
    "start_time": "2022-11-22T19:34:07.271Z"
   },
   {
    "duration": 62,
    "start_time": "2022-11-22T19:34:08.310Z"
   },
   {
    "duration": 13,
    "start_time": "2022-11-22T19:34:08.373Z"
   },
   {
    "duration": 12,
    "start_time": "2022-11-22T19:34:08.387Z"
   },
   {
    "duration": 20,
    "start_time": "2022-11-22T19:34:08.401Z"
   },
   {
    "duration": 12,
    "start_time": "2022-11-22T19:34:08.422Z"
   },
   {
    "duration": 9,
    "start_time": "2022-11-22T19:34:08.436Z"
   },
   {
    "duration": 5,
    "start_time": "2022-11-22T19:34:08.447Z"
   },
   {
    "duration": 18,
    "start_time": "2022-11-22T19:34:08.453Z"
   },
   {
    "duration": 7,
    "start_time": "2022-11-22T19:34:08.472Z"
   },
   {
    "duration": 20,
    "start_time": "2022-11-22T19:34:08.480Z"
   },
   {
    "duration": 49,
    "start_time": "2022-11-22T19:34:08.502Z"
   },
   {
    "duration": 315,
    "start_time": "2022-11-22T19:34:08.552Z"
   },
   {
    "duration": 32,
    "start_time": "2022-11-22T19:34:08.869Z"
   },
   {
    "duration": 6,
    "start_time": "2022-11-22T19:34:08.902Z"
   },
   {
    "duration": 28,
    "start_time": "2022-11-22T19:34:08.909Z"
   },
   {
    "duration": 21,
    "start_time": "2022-11-22T19:34:08.939Z"
   },
   {
    "duration": 15,
    "start_time": "2022-11-22T19:34:08.962Z"
   },
   {
    "duration": 7,
    "start_time": "2022-11-22T19:34:08.978Z"
   },
   {
    "duration": 15,
    "start_time": "2022-11-22T19:34:08.987Z"
   },
   {
    "duration": 17,
    "start_time": "2022-11-22T19:34:09.026Z"
   },
   {
    "duration": 11,
    "start_time": "2022-11-22T19:34:09.045Z"
   },
   {
    "duration": 12,
    "start_time": "2022-11-22T19:34:09.058Z"
   },
   {
    "duration": 7,
    "start_time": "2022-11-22T19:34:09.071Z"
   },
   {
    "duration": 410,
    "start_time": "2022-11-22T19:34:09.079Z"
   },
   {
    "duration": 20,
    "start_time": "2022-11-22T19:34:09.490Z"
   },
   {
    "duration": 4,
    "start_time": "2022-11-22T19:34:09.512Z"
   },
   {
    "duration": 11,
    "start_time": "2022-11-22T19:34:09.517Z"
   },
   {
    "duration": 189,
    "start_time": "2022-11-22T19:34:09.529Z"
   },
   {
    "duration": 107,
    "start_time": "2022-11-22T19:34:09.720Z"
   },
   {
    "duration": 0,
    "start_time": "2022-11-22T19:34:09.829Z"
   },
   {
    "duration": 0,
    "start_time": "2022-11-22T19:34:09.831Z"
   },
   {
    "duration": 1,
    "start_time": "2022-11-22T19:34:09.832Z"
   },
   {
    "duration": 0,
    "start_time": "2022-11-22T19:34:09.835Z"
   },
   {
    "duration": 0,
    "start_time": "2022-11-22T19:34:09.836Z"
   },
   {
    "duration": 0,
    "start_time": "2022-11-22T19:34:09.837Z"
   },
   {
    "duration": 0,
    "start_time": "2022-11-22T19:34:09.839Z"
   },
   {
    "duration": 0,
    "start_time": "2022-11-22T19:34:09.841Z"
   },
   {
    "duration": 0,
    "start_time": "2022-11-22T19:34:09.842Z"
   },
   {
    "duration": 0,
    "start_time": "2022-11-22T19:34:09.843Z"
   },
   {
    "duration": 0,
    "start_time": "2022-11-22T19:34:09.844Z"
   },
   {
    "duration": 1133,
    "start_time": "2022-11-22T19:35:29.104Z"
   },
   {
    "duration": 64,
    "start_time": "2022-11-22T19:35:30.239Z"
   },
   {
    "duration": 13,
    "start_time": "2022-11-22T19:35:30.304Z"
   },
   {
    "duration": 23,
    "start_time": "2022-11-22T19:35:30.320Z"
   },
   {
    "duration": 18,
    "start_time": "2022-11-22T19:35:30.345Z"
   },
   {
    "duration": 17,
    "start_time": "2022-11-22T19:35:30.364Z"
   },
   {
    "duration": 21,
    "start_time": "2022-11-22T19:35:30.383Z"
   },
   {
    "duration": 20,
    "start_time": "2022-11-22T19:35:30.405Z"
   },
   {
    "duration": 39,
    "start_time": "2022-11-22T19:35:30.427Z"
   },
   {
    "duration": 14,
    "start_time": "2022-11-22T19:35:30.469Z"
   },
   {
    "duration": 37,
    "start_time": "2022-11-22T19:35:30.484Z"
   },
   {
    "duration": 61,
    "start_time": "2022-11-22T19:35:30.522Z"
   },
   {
    "duration": 311,
    "start_time": "2022-11-22T19:35:30.585Z"
   },
   {
    "duration": 40,
    "start_time": "2022-11-22T19:35:30.897Z"
   },
   {
    "duration": 6,
    "start_time": "2022-11-22T19:35:30.938Z"
   },
   {
    "duration": 33,
    "start_time": "2022-11-22T19:35:30.946Z"
   },
   {
    "duration": 23,
    "start_time": "2022-11-22T19:35:30.980Z"
   },
   {
    "duration": 28,
    "start_time": "2022-11-22T19:35:31.005Z"
   },
   {
    "duration": 11,
    "start_time": "2022-11-22T19:35:31.034Z"
   },
   {
    "duration": 28,
    "start_time": "2022-11-22T19:35:31.047Z"
   },
   {
    "duration": 21,
    "start_time": "2022-11-22T19:35:31.077Z"
   },
   {
    "duration": 12,
    "start_time": "2022-11-22T19:35:31.099Z"
   },
   {
    "duration": 34,
    "start_time": "2022-11-22T19:35:31.113Z"
   },
   {
    "duration": 29,
    "start_time": "2022-11-22T19:35:31.148Z"
   },
   {
    "duration": 415,
    "start_time": "2022-11-22T19:35:31.178Z"
   },
   {
    "duration": 26,
    "start_time": "2022-11-22T19:35:31.596Z"
   },
   {
    "duration": 8,
    "start_time": "2022-11-22T19:35:31.623Z"
   },
   {
    "duration": 13,
    "start_time": "2022-11-22T19:35:31.634Z"
   },
   {
    "duration": 210,
    "start_time": "2022-11-22T19:35:31.650Z"
   },
   {
    "duration": 1404,
    "start_time": "2022-11-22T19:35:31.862Z"
   },
   {
    "duration": 18,
    "start_time": "2022-11-22T19:35:33.268Z"
   },
   {
    "duration": 13,
    "start_time": "2022-11-22T19:35:33.288Z"
   },
   {
    "duration": 28,
    "start_time": "2022-11-22T19:35:33.302Z"
   },
   {
    "duration": 13,
    "start_time": "2022-11-22T19:35:33.331Z"
   },
   {
    "duration": 13,
    "start_time": "2022-11-22T19:35:33.346Z"
   },
   {
    "duration": 303,
    "start_time": "2022-11-22T19:35:33.360Z"
   },
   {
    "duration": 12,
    "start_time": "2022-11-22T19:35:33.665Z"
   },
   {
    "duration": 4,
    "start_time": "2022-11-22T19:35:33.679Z"
   },
   {
    "duration": 10,
    "start_time": "2022-11-22T19:35:33.685Z"
   },
   {
    "duration": 6,
    "start_time": "2022-11-22T19:35:33.696Z"
   },
   {
    "duration": 80,
    "start_time": "2022-11-22T21:19:02.206Z"
   },
   {
    "duration": 14,
    "start_time": "2022-11-22T21:28:41.936Z"
   },
   {
    "duration": 103,
    "start_time": "2022-11-22T21:30:51.431Z"
   },
   {
    "duration": 6,
    "start_time": "2022-11-22T21:30:59.218Z"
   },
   {
    "duration": 26,
    "start_time": "2022-11-22T21:31:01.291Z"
   },
   {
    "duration": 27,
    "start_time": "2022-11-22T21:31:43.123Z"
   },
   {
    "duration": 25,
    "start_time": "2022-11-22T21:32:20.408Z"
   },
   {
    "duration": 11,
    "start_time": "2022-11-22T21:35:51.251Z"
   },
   {
    "duration": 7,
    "start_time": "2022-11-22T21:38:30.615Z"
   },
   {
    "duration": 11,
    "start_time": "2022-11-22T21:38:32.879Z"
   },
   {
    "duration": 10,
    "start_time": "2022-11-22T21:38:47.646Z"
   },
   {
    "duration": 10,
    "start_time": "2022-11-22T21:45:56.826Z"
   },
   {
    "duration": 4,
    "start_time": "2022-11-22T21:46:07.942Z"
   },
   {
    "duration": 10,
    "start_time": "2022-11-22T21:49:03.143Z"
   },
   {
    "duration": 5,
    "start_time": "2022-11-22T21:49:18.621Z"
   },
   {
    "duration": 5,
    "start_time": "2022-11-22T21:55:59.838Z"
   },
   {
    "duration": 5,
    "start_time": "2022-11-22T21:56:15.317Z"
   },
   {
    "duration": 73,
    "start_time": "2022-11-22T22:27:31.483Z"
   },
   {
    "duration": 3,
    "start_time": "2022-11-22T22:27:53.135Z"
   },
   {
    "duration": 21,
    "start_time": "2022-11-22T22:27:57.993Z"
   },
   {
    "duration": 9,
    "start_time": "2022-11-22T22:31:32.529Z"
   },
   {
    "duration": 11,
    "start_time": "2022-11-22T22:32:05.049Z"
   },
   {
    "duration": 13,
    "start_time": "2022-11-22T22:33:39.413Z"
   },
   {
    "duration": 1108,
    "start_time": "2022-11-22T22:34:18.957Z"
   },
   {
    "duration": 71,
    "start_time": "2022-11-22T22:34:20.067Z"
   },
   {
    "duration": 14,
    "start_time": "2022-11-22T22:34:20.140Z"
   },
   {
    "duration": 8,
    "start_time": "2022-11-22T22:34:20.156Z"
   },
   {
    "duration": 27,
    "start_time": "2022-11-22T22:34:20.165Z"
   },
   {
    "duration": 14,
    "start_time": "2022-11-22T22:34:20.193Z"
   },
   {
    "duration": 15,
    "start_time": "2022-11-22T22:34:20.208Z"
   },
   {
    "duration": 5,
    "start_time": "2022-11-22T22:34:20.226Z"
   },
   {
    "duration": 27,
    "start_time": "2022-11-22T22:34:20.233Z"
   },
   {
    "duration": 9,
    "start_time": "2022-11-22T22:34:20.262Z"
   },
   {
    "duration": 17,
    "start_time": "2022-11-22T22:34:20.273Z"
   },
   {
    "duration": 46,
    "start_time": "2022-11-22T22:34:20.292Z"
   },
   {
    "duration": 337,
    "start_time": "2022-11-22T22:34:20.340Z"
   },
   {
    "duration": 36,
    "start_time": "2022-11-22T22:34:20.679Z"
   },
   {
    "duration": 13,
    "start_time": "2022-11-22T22:34:20.717Z"
   },
   {
    "duration": 21,
    "start_time": "2022-11-22T22:34:20.732Z"
   },
   {
    "duration": 16,
    "start_time": "2022-11-22T22:34:20.754Z"
   },
   {
    "duration": 18,
    "start_time": "2022-11-22T22:34:20.772Z"
   },
   {
    "duration": 35,
    "start_time": "2022-11-22T22:34:20.792Z"
   },
   {
    "duration": 17,
    "start_time": "2022-11-22T22:34:20.829Z"
   },
   {
    "duration": 29,
    "start_time": "2022-11-22T22:34:20.848Z"
   },
   {
    "duration": 12,
    "start_time": "2022-11-22T22:34:20.879Z"
   },
   {
    "duration": 36,
    "start_time": "2022-11-22T22:34:20.892Z"
   },
   {
    "duration": 22,
    "start_time": "2022-11-22T22:34:20.929Z"
   },
   {
    "duration": 441,
    "start_time": "2022-11-22T22:34:20.952Z"
   },
   {
    "duration": 23,
    "start_time": "2022-11-22T22:34:21.395Z"
   },
   {
    "duration": 6,
    "start_time": "2022-11-22T22:34:21.420Z"
   },
   {
    "duration": 8,
    "start_time": "2022-11-22T22:34:21.430Z"
   },
   {
    "duration": 223,
    "start_time": "2022-11-22T22:34:21.439Z"
   },
   {
    "duration": 1333,
    "start_time": "2022-11-22T22:34:21.664Z"
   },
   {
    "duration": 27,
    "start_time": "2022-11-22T22:34:22.999Z"
   },
   {
    "duration": 15,
    "start_time": "2022-11-22T22:34:23.028Z"
   },
   {
    "duration": 15,
    "start_time": "2022-11-22T22:34:23.044Z"
   },
   {
    "duration": 15,
    "start_time": "2022-11-22T22:34:23.060Z"
   },
   {
    "duration": 15,
    "start_time": "2022-11-22T22:34:23.076Z"
   },
   {
    "duration": 315,
    "start_time": "2022-11-22T22:34:23.092Z"
   },
   {
    "duration": 6,
    "start_time": "2022-11-22T22:34:23.408Z"
   },
   {
    "duration": 17,
    "start_time": "2022-11-22T22:34:23.415Z"
   },
   {
    "duration": 10,
    "start_time": "2022-11-22T22:34:23.433Z"
   },
   {
    "duration": 8,
    "start_time": "2022-11-22T22:34:23.444Z"
   },
   {
    "duration": 21,
    "start_time": "2022-11-22T22:34:23.454Z"
   },
   {
    "duration": 11,
    "start_time": "2022-11-22T22:34:23.477Z"
   },
   {
    "duration": 43,
    "start_time": "2022-11-22T22:34:23.490Z"
   },
   {
    "duration": 17,
    "start_time": "2022-11-22T22:34:23.535Z"
   },
   {
    "duration": 29,
    "start_time": "2022-11-22T22:34:58.578Z"
   },
   {
    "duration": 11,
    "start_time": "2022-11-22T22:35:22.961Z"
   },
   {
    "duration": 5,
    "start_time": "2022-11-22T22:37:39.053Z"
   },
   {
    "duration": 19,
    "start_time": "2022-11-22T22:39:27.016Z"
   },
   {
    "duration": 19,
    "start_time": "2022-11-22T22:56:15.796Z"
   },
   {
    "duration": 14,
    "start_time": "2022-11-22T22:56:24.060Z"
   },
   {
    "duration": 14,
    "start_time": "2022-11-22T22:56:30.084Z"
   },
   {
    "duration": 14,
    "start_time": "2022-11-22T22:56:36.033Z"
   },
   {
    "duration": 13,
    "start_time": "2022-11-22T22:56:42.037Z"
   },
   {
    "duration": 213,
    "start_time": "2022-11-22T22:56:54.566Z"
   },
   {
    "duration": 5,
    "start_time": "2022-11-22T22:58:45.670Z"
   },
   {
    "duration": 20,
    "start_time": "2022-11-22T22:59:17.702Z"
   },
   {
    "duration": 1123,
    "start_time": "2022-11-22T23:02:01.931Z"
   },
   {
    "duration": 66,
    "start_time": "2022-11-22T23:02:03.056Z"
   },
   {
    "duration": 13,
    "start_time": "2022-11-22T23:02:03.123Z"
   },
   {
    "duration": 13,
    "start_time": "2022-11-22T23:02:03.138Z"
   },
   {
    "duration": 26,
    "start_time": "2022-11-22T23:02:03.153Z"
   },
   {
    "duration": 8,
    "start_time": "2022-11-22T23:02:03.181Z"
   },
   {
    "duration": 9,
    "start_time": "2022-11-22T23:02:03.191Z"
   },
   {
    "duration": 9,
    "start_time": "2022-11-22T23:02:03.201Z"
   },
   {
    "duration": 22,
    "start_time": "2022-11-22T23:02:03.211Z"
   },
   {
    "duration": 8,
    "start_time": "2022-11-22T23:02:03.235Z"
   },
   {
    "duration": 14,
    "start_time": "2022-11-22T23:02:03.245Z"
   },
   {
    "duration": 40,
    "start_time": "2022-11-22T23:02:03.261Z"
   },
   {
    "duration": 341,
    "start_time": "2022-11-22T23:02:03.303Z"
   },
   {
    "duration": 34,
    "start_time": "2022-11-22T23:02:03.645Z"
   },
   {
    "duration": 17,
    "start_time": "2022-11-22T23:02:03.680Z"
   },
   {
    "duration": 17,
    "start_time": "2022-11-22T23:02:03.698Z"
   },
   {
    "duration": 23,
    "start_time": "2022-11-22T23:02:03.717Z"
   },
   {
    "duration": 17,
    "start_time": "2022-11-22T23:02:03.741Z"
   },
   {
    "duration": 8,
    "start_time": "2022-11-22T23:02:03.759Z"
   },
   {
    "duration": 18,
    "start_time": "2022-11-22T23:02:03.768Z"
   },
   {
    "duration": 45,
    "start_time": "2022-11-22T23:02:03.788Z"
   },
   {
    "duration": 13,
    "start_time": "2022-11-22T23:02:03.834Z"
   },
   {
    "duration": 12,
    "start_time": "2022-11-22T23:02:03.848Z"
   },
   {
    "duration": 6,
    "start_time": "2022-11-22T23:02:03.862Z"
   },
   {
    "duration": 415,
    "start_time": "2022-11-22T23:02:03.870Z"
   },
   {
    "duration": 6,
    "start_time": "2022-11-22T23:02:04.287Z"
   },
   {
    "duration": 20,
    "start_time": "2022-11-22T23:02:04.294Z"
   },
   {
    "duration": 5,
    "start_time": "2022-11-22T23:02:04.317Z"
   },
   {
    "duration": 9,
    "start_time": "2022-11-22T23:02:04.324Z"
   },
   {
    "duration": 192,
    "start_time": "2022-11-22T23:02:04.334Z"
   },
   {
    "duration": 1371,
    "start_time": "2022-11-22T23:02:04.528Z"
   },
   {
    "duration": 25,
    "start_time": "2022-11-22T23:02:05.901Z"
   },
   {
    "duration": 13,
    "start_time": "2022-11-22T23:02:05.928Z"
   },
   {
    "duration": 13,
    "start_time": "2022-11-22T23:02:05.943Z"
   },
   {
    "duration": 13,
    "start_time": "2022-11-22T23:02:05.958Z"
   },
   {
    "duration": 12,
    "start_time": "2022-11-22T23:02:05.973Z"
   },
   {
    "duration": 303,
    "start_time": "2022-11-22T23:02:05.987Z"
   },
   {
    "duration": 11,
    "start_time": "2022-11-22T23:02:06.292Z"
   },
   {
    "duration": 22,
    "start_time": "2022-11-22T23:02:06.305Z"
   },
   {
    "duration": 8,
    "start_time": "2022-11-22T23:02:06.329Z"
   },
   {
    "duration": 25,
    "start_time": "2022-11-22T23:02:06.338Z"
   },
   {
    "duration": 10,
    "start_time": "2022-11-22T23:02:06.365Z"
   },
   {
    "duration": 11,
    "start_time": "2022-11-22T23:02:06.377Z"
   },
   {
    "duration": 7,
    "start_time": "2022-11-22T23:02:06.390Z"
   },
   {
    "duration": 45,
    "start_time": "2022-11-22T23:02:06.399Z"
   },
   {
    "duration": 1039,
    "start_time": "2022-11-22T23:39:03.092Z"
   },
   {
    "duration": 64,
    "start_time": "2022-11-22T23:39:04.133Z"
   },
   {
    "duration": 13,
    "start_time": "2022-11-22T23:39:04.199Z"
   },
   {
    "duration": 9,
    "start_time": "2022-11-22T23:39:04.214Z"
   },
   {
    "duration": 18,
    "start_time": "2022-11-22T23:39:04.224Z"
   },
   {
    "duration": 8,
    "start_time": "2022-11-22T23:39:04.243Z"
   },
   {
    "duration": 11,
    "start_time": "2022-11-22T23:39:04.253Z"
   },
   {
    "duration": 4,
    "start_time": "2022-11-22T23:39:04.266Z"
   },
   {
    "duration": 17,
    "start_time": "2022-11-22T23:39:04.272Z"
   },
   {
    "duration": 7,
    "start_time": "2022-11-22T23:39:04.291Z"
   },
   {
    "duration": 28,
    "start_time": "2022-11-22T23:39:04.299Z"
   },
   {
    "duration": 35,
    "start_time": "2022-11-22T23:39:04.329Z"
   },
   {
    "duration": 336,
    "start_time": "2022-11-22T23:39:04.365Z"
   },
   {
    "duration": 38,
    "start_time": "2022-11-22T23:39:04.702Z"
   },
   {
    "duration": 6,
    "start_time": "2022-11-22T23:39:04.741Z"
   },
   {
    "duration": 15,
    "start_time": "2022-11-22T23:39:04.749Z"
   },
   {
    "duration": 15,
    "start_time": "2022-11-22T23:39:04.765Z"
   },
   {
    "duration": 15,
    "start_time": "2022-11-22T23:39:04.781Z"
   },
   {
    "duration": 35,
    "start_time": "2022-11-22T23:39:04.798Z"
   },
   {
    "duration": 15,
    "start_time": "2022-11-22T23:39:04.834Z"
   },
   {
    "duration": 17,
    "start_time": "2022-11-22T23:39:04.850Z"
   },
   {
    "duration": 26,
    "start_time": "2022-11-22T23:39:04.868Z"
   },
   {
    "duration": 13,
    "start_time": "2022-11-22T23:39:04.895Z"
   },
   {
    "duration": 21,
    "start_time": "2022-11-22T23:39:04.909Z"
   },
   {
    "duration": 385,
    "start_time": "2022-11-22T23:39:04.932Z"
   },
   {
    "duration": 6,
    "start_time": "2022-11-22T23:39:05.318Z"
   },
   {
    "duration": 23,
    "start_time": "2022-11-22T23:39:05.325Z"
   },
   {
    "duration": 5,
    "start_time": "2022-11-22T23:39:05.351Z"
   },
   {
    "duration": 9,
    "start_time": "2022-11-22T23:39:05.357Z"
   },
   {
    "duration": 218,
    "start_time": "2022-11-22T23:39:05.368Z"
   },
   {
    "duration": 1278,
    "start_time": "2022-11-22T23:39:05.587Z"
   },
   {
    "duration": 17,
    "start_time": "2022-11-22T23:39:06.867Z"
   },
   {
    "duration": 16,
    "start_time": "2022-11-22T23:39:06.886Z"
   },
   {
    "duration": 27,
    "start_time": "2022-11-22T23:39:06.903Z"
   },
   {
    "duration": 13,
    "start_time": "2022-11-22T23:39:06.931Z"
   },
   {
    "duration": 14,
    "start_time": "2022-11-22T23:39:06.945Z"
   },
   {
    "duration": 295,
    "start_time": "2022-11-22T23:39:06.961Z"
   },
   {
    "duration": 11,
    "start_time": "2022-11-22T23:39:07.258Z"
   },
   {
    "duration": 14,
    "start_time": "2022-11-22T23:39:07.270Z"
   },
   {
    "duration": 5,
    "start_time": "2022-11-22T23:39:07.286Z"
   },
   {
    "duration": 39,
    "start_time": "2022-11-22T23:39:07.292Z"
   },
   {
    "duration": 10,
    "start_time": "2022-11-22T23:39:07.333Z"
   },
   {
    "duration": 11,
    "start_time": "2022-11-22T23:39:07.344Z"
   },
   {
    "duration": 8,
    "start_time": "2022-11-22T23:39:07.357Z"
   },
   {
    "duration": 31,
    "start_time": "2022-11-22T23:39:07.367Z"
   },
   {
    "duration": 1259,
    "start_time": "2022-11-22T23:41:26.791Z"
   },
   {
    "duration": 1275,
    "start_time": "2022-11-23T13:14:26.209Z"
   },
   {
    "duration": 113,
    "start_time": "2022-11-23T13:14:27.486Z"
   },
   {
    "duration": 15,
    "start_time": "2022-11-23T13:14:27.600Z"
   },
   {
    "duration": 12,
    "start_time": "2022-11-23T13:14:27.617Z"
   },
   {
    "duration": 15,
    "start_time": "2022-11-23T13:14:27.630Z"
   },
   {
    "duration": 10,
    "start_time": "2022-11-23T13:14:27.646Z"
   },
   {
    "duration": 26,
    "start_time": "2022-11-23T13:14:27.657Z"
   },
   {
    "duration": 5,
    "start_time": "2022-11-23T13:14:27.684Z"
   },
   {
    "duration": 27,
    "start_time": "2022-11-23T13:14:27.691Z"
   },
   {
    "duration": 8,
    "start_time": "2022-11-23T13:14:27.721Z"
   },
   {
    "duration": 14,
    "start_time": "2022-11-23T13:14:27.731Z"
   },
   {
    "duration": 58,
    "start_time": "2022-11-23T13:14:27.747Z"
   },
   {
    "duration": 333,
    "start_time": "2022-11-23T13:14:27.806Z"
   },
   {
    "duration": 44,
    "start_time": "2022-11-23T13:14:28.141Z"
   },
   {
    "duration": 7,
    "start_time": "2022-11-23T13:14:28.187Z"
   },
   {
    "duration": 29,
    "start_time": "2022-11-23T13:14:28.195Z"
   },
   {
    "duration": 25,
    "start_time": "2022-11-23T13:14:28.226Z"
   },
   {
    "duration": 24,
    "start_time": "2022-11-23T13:14:28.277Z"
   },
   {
    "duration": 14,
    "start_time": "2022-11-23T13:14:28.303Z"
   },
   {
    "duration": 23,
    "start_time": "2022-11-23T13:14:28.319Z"
   },
   {
    "duration": 48,
    "start_time": "2022-11-23T13:14:28.343Z"
   },
   {
    "duration": 25,
    "start_time": "2022-11-23T13:14:28.392Z"
   },
   {
    "duration": 14,
    "start_time": "2022-11-23T13:14:28.419Z"
   },
   {
    "duration": 8,
    "start_time": "2022-11-23T13:14:28.435Z"
   },
   {
    "duration": 443,
    "start_time": "2022-11-23T13:14:28.445Z"
   },
   {
    "duration": 6,
    "start_time": "2022-11-23T13:14:28.891Z"
   },
   {
    "duration": 29,
    "start_time": "2022-11-23T13:14:28.899Z"
   },
   {
    "duration": 7,
    "start_time": "2022-11-23T13:14:28.932Z"
   },
   {
    "duration": 19,
    "start_time": "2022-11-23T13:14:28.941Z"
   },
   {
    "duration": 197,
    "start_time": "2022-11-23T13:14:28.962Z"
   },
   {
    "duration": 1410,
    "start_time": "2022-11-23T13:14:29.160Z"
   },
   {
    "duration": 22,
    "start_time": "2022-11-23T13:14:30.572Z"
   },
   {
    "duration": 32,
    "start_time": "2022-11-23T13:14:30.595Z"
   },
   {
    "duration": 65,
    "start_time": "2022-11-23T13:14:30.629Z"
   },
   {
    "duration": 43,
    "start_time": "2022-11-23T13:14:30.696Z"
   },
   {
    "duration": 69,
    "start_time": "2022-11-23T13:14:30.741Z"
   },
   {
    "duration": 372,
    "start_time": "2022-11-23T13:14:30.812Z"
   },
   {
    "duration": 13,
    "start_time": "2022-11-23T13:14:31.187Z"
   },
   {
    "duration": 30,
    "start_time": "2022-11-23T13:14:31.202Z"
   },
   {
    "duration": 23,
    "start_time": "2022-11-23T13:14:31.234Z"
   },
   {
    "duration": 34,
    "start_time": "2022-11-23T13:14:31.259Z"
   },
   {
    "duration": 18,
    "start_time": "2022-11-23T13:14:31.295Z"
   },
   {
    "duration": 39,
    "start_time": "2022-11-23T13:14:31.315Z"
   },
   {
    "duration": 31,
    "start_time": "2022-11-23T13:14:31.356Z"
   },
   {
    "duration": 63,
    "start_time": "2022-11-23T13:14:31.389Z"
   },
   {
    "duration": 6,
    "start_time": "2022-11-23T13:16:57.518Z"
   },
   {
    "duration": 17,
    "start_time": "2022-11-23T13:19:20.347Z"
   },
   {
    "duration": 17,
    "start_time": "2022-11-23T13:19:31.524Z"
   },
   {
    "duration": 1196,
    "start_time": "2022-11-23T13:35:43.142Z"
   },
   {
    "duration": 70,
    "start_time": "2022-11-23T13:35:44.340Z"
   },
   {
    "duration": 15,
    "start_time": "2022-11-23T13:35:44.412Z"
   },
   {
    "duration": 11,
    "start_time": "2022-11-23T13:35:44.430Z"
   },
   {
    "duration": 35,
    "start_time": "2022-11-23T13:35:44.443Z"
   },
   {
    "duration": 7,
    "start_time": "2022-11-23T13:35:44.480Z"
   },
   {
    "duration": 17,
    "start_time": "2022-11-23T13:35:44.489Z"
   },
   {
    "duration": 6,
    "start_time": "2022-11-23T13:35:44.508Z"
   },
   {
    "duration": 19,
    "start_time": "2022-11-23T13:35:44.516Z"
   },
   {
    "duration": 10,
    "start_time": "2022-11-23T13:35:44.538Z"
   },
   {
    "duration": 43,
    "start_time": "2022-11-23T13:35:44.549Z"
   },
   {
    "duration": 39,
    "start_time": "2022-11-23T13:35:44.593Z"
   },
   {
    "duration": 347,
    "start_time": "2022-11-23T13:35:44.633Z"
   },
   {
    "duration": 36,
    "start_time": "2022-11-23T13:35:44.981Z"
   },
   {
    "duration": 7,
    "start_time": "2022-11-23T13:35:45.018Z"
   },
   {
    "duration": 27,
    "start_time": "2022-11-23T13:35:45.026Z"
   },
   {
    "duration": 32,
    "start_time": "2022-11-23T13:35:45.054Z"
   },
   {
    "duration": 14,
    "start_time": "2022-11-23T13:35:45.088Z"
   },
   {
    "duration": 36,
    "start_time": "2022-11-23T13:35:45.104Z"
   },
   {
    "duration": 9,
    "start_time": "2022-11-23T13:35:45.142Z"
   },
   {
    "duration": 21,
    "start_time": "2022-11-23T13:35:45.152Z"
   },
   {
    "duration": 29,
    "start_time": "2022-11-23T13:35:45.177Z"
   },
   {
    "duration": 14,
    "start_time": "2022-11-23T13:35:45.208Z"
   },
   {
    "duration": 14,
    "start_time": "2022-11-23T13:35:45.223Z"
   },
   {
    "duration": 7,
    "start_time": "2022-11-23T13:35:45.240Z"
   },
   {
    "duration": 440,
    "start_time": "2022-11-23T13:35:45.248Z"
   },
   {
    "duration": 6,
    "start_time": "2022-11-23T13:35:45.690Z"
   },
   {
    "duration": 40,
    "start_time": "2022-11-23T13:35:45.699Z"
   },
   {
    "duration": 20,
    "start_time": "2022-11-23T13:35:45.740Z"
   },
   {
    "duration": 23,
    "start_time": "2022-11-23T13:35:45.761Z"
   },
   {
    "duration": 232,
    "start_time": "2022-11-23T13:35:45.786Z"
   },
   {
    "duration": 1387,
    "start_time": "2022-11-23T13:35:46.020Z"
   },
   {
    "duration": 20,
    "start_time": "2022-11-23T13:35:47.409Z"
   },
   {
    "duration": 31,
    "start_time": "2022-11-23T13:35:47.430Z"
   },
   {
    "duration": 50,
    "start_time": "2022-11-23T13:35:47.463Z"
   },
   {
    "duration": 50,
    "start_time": "2022-11-23T13:35:47.515Z"
   },
   {
    "duration": 14,
    "start_time": "2022-11-23T13:35:47.567Z"
   },
   {
    "duration": 316,
    "start_time": "2022-11-23T13:35:47.583Z"
   },
   {
    "duration": 12,
    "start_time": "2022-11-23T13:35:47.902Z"
   },
   {
    "duration": 33,
    "start_time": "2022-11-23T13:35:47.916Z"
   },
   {
    "duration": 32,
    "start_time": "2022-11-23T13:35:47.951Z"
   },
   {
    "duration": 65,
    "start_time": "2022-11-23T13:35:47.985Z"
   },
   {
    "duration": 13,
    "start_time": "2022-11-23T13:35:48.052Z"
   },
   {
    "duration": 19,
    "start_time": "2022-11-23T13:35:48.066Z"
   },
   {
    "duration": 35,
    "start_time": "2022-11-23T13:35:48.087Z"
   },
   {
    "duration": 32,
    "start_time": "2022-11-23T13:35:48.124Z"
   }
  ],
  "kernelspec": {
   "display_name": "Python 3 (ipykernel)",
   "language": "python",
   "name": "python3"
  },
  "language_info": {
   "codemirror_mode": {
    "name": "ipython",
    "version": 3
   },
   "file_extension": ".py",
   "mimetype": "text/x-python",
   "name": "python",
   "nbconvert_exporter": "python",
   "pygments_lexer": "ipython3",
   "version": "3.9.13"
  },
  "toc": {
   "base_numbering": 1,
   "nav_menu": {},
   "number_sections": true,
   "sideBar": true,
   "skip_h1_title": true,
   "title_cell": "Table of Contents",
   "title_sidebar": "Contents",
   "toc_cell": false,
   "toc_position": {},
   "toc_section_display": true,
   "toc_window_display": false
  }
 },
 "nbformat": 4,
 "nbformat_minor": 2
}
